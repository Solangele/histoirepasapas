{
  "nbformat": 4,
  "nbformat_minor": 0,
  "metadata": {
    "colab": {
      "provenance": [],
      "history_visible": true,
      "authorship_tag": "ABX9TyNrzAvXmnEjDrMdymUs3SJ1",
      "include_colab_link": true
    },
    "kernelspec": {
      "name": "python3",
      "display_name": "Python 3"
    },
    "language_info": {
      "name": "python"
    }
  },
  "cells": [
    {
      "cell_type": "markdown",
      "metadata": {
        "id": "view-in-github",
        "colab_type": "text"
      },
      "source": [
        "<a href=\"https://colab.research.google.com/github/Solangele/histoirepasapas/blob/main/TEST2.ipynb\" target=\"_parent\"><img src=\"https://colab.research.google.com/assets/colab-badge.svg\" alt=\"Open In Colab\"/></a>"
      ]
    },
    {
      "cell_type": "code",
      "execution_count": null,
      "metadata": {
        "id": "MPJZ08w6JhBO"
      },
      "outputs": [],
      "source": []
    },
    {
      "cell_type": "markdown",
      "source": [
        "# Python bases"
      ],
      "metadata": {
        "id": "Pu_23q1eLDWB"
      }
    },
    {
      "cell_type": "code",
      "source": [
        "#Programme pour multiplier deux nombre\n",
        "x=input(\"entrez un nombre entier :\")\n",
        "x=int(x)\n",
        "y=input(\"entrer un deuxième nombre : \")\n",
        "y=int(y)\n",
        "print(\"x * y égal {}\".format(x*y))"
      ],
      "metadata": {
        "colab": {
          "base_uri": "https://localhost:8080/"
        },
        "id": "iC_zTCxJycON",
        "outputId": "06acef0e-03dd-4b51-a570-520b8ea9e0f2"
      },
      "execution_count": null,
      "outputs": [
        {
          "output_type": "stream",
          "name": "stdout",
          "text": [
            "entrez un nombre entier :4\n",
            "entrer un deuxième nombre : 3\n",
            "x * y égal 12\n"
          ]
        }
      ]
    },
    {
      "cell_type": "markdown",
      "source": [
        "##Fonction"
      ],
      "metadata": {
        "id": "5CdgfS1tLTyH"
      }
    },
    {
      "cell_type": "code",
      "source": [
        "v1=13\n",
        "REF1=14\n",
        "def somme(i_a,i_b):\n",
        "  '''\n",
        "  INPUT:\n",
        "  OUTPUT:\n",
        "  '''\n",
        "  l_s = i_a+i_b\n",
        "  if l_s>REF1:\n",
        "   return l_s\n",
        "  else:\n",
        "   return l_s+v1\n",
        "somme(14,17)\n",
        "\n",
        "\n"
      ],
      "metadata": {
        "colab": {
          "base_uri": "https://localhost:8080/"
        },
        "id": "pQiFcO3kLNMG",
        "outputId": "c9d2d85a-8c88-4b6c-98e6-ca213a12ae16"
      },
      "execution_count": null,
      "outputs": [
        {
          "output_type": "execute_result",
          "data": {
            "text/plain": [
              "31"
            ]
          },
          "metadata": {},
          "execution_count": 11
        }
      ]
    },
    {
      "cell_type": "code",
      "source": [
        "12//5\n",
        "\n"
      ],
      "metadata": {
        "colab": {
          "base_uri": "https://localhost:8080/"
        },
        "id": "0E1JRMkKjk9E",
        "outputId": "e218a974-9a0e-4633-c73e-394b39585963"
      },
      "execution_count": null,
      "outputs": [
        {
          "output_type": "execute_result",
          "data": {
            "text/plain": [
              "2"
            ]
          },
          "metadata": {},
          "execution_count": 15
        }
      ]
    },
    {
      "cell_type": "code",
      "source": [
        "12/5\n"
      ],
      "metadata": {
        "colab": {
          "base_uri": "https://localhost:8080/"
        },
        "id": "MOhJ-raLkYTo",
        "outputId": "980e9f73-e21e-47d0-c432-7d91765e817c"
      },
      "execution_count": null,
      "outputs": [
        {
          "output_type": "execute_result",
          "data": {
            "text/plain": [
              "2.4"
            ]
          },
          "metadata": {},
          "execution_count": 16
        }
      ]
    },
    {
      "cell_type": "code",
      "source": [
        "from re import A\n",
        "#Vérifier la divisibilité de b par a\n",
        "'''\n",
        "les inputs: a et b\n",
        "les outputs: result\n",
        "'''\n",
        "def is_divider(a,b):\n",
        "  result=b/a\n",
        "# Try/Except pour lever les exceptions\n",
        "  try:\n",
        "    if a==0:\n",
        "     result=False\n",
        "    elif result == b//a:\n",
        "     result = True\n",
        "    else:\n",
        "     result=False\n",
        "    return result\n",
        "  except ValueError:\n",
        "     print(\"La saisie est incorrecte\")"
      ],
      "metadata": {
        "id": "aBtISOshuNLQ"
      },
      "execution_count": null,
      "outputs": []
    },
    {
      "cell_type": "code",
      "source": [
        "is_divider(5,12)"
      ],
      "metadata": {
        "colab": {
          "base_uri": "https://localhost:8080/"
        },
        "id": "ONn19Ok1m_2w",
        "outputId": "388ada25-4612-4cab-e4e3-392fd93628f7"
      },
      "execution_count": null,
      "outputs": [
        {
          "output_type": "execute_result",
          "data": {
            "text/plain": [
              "False"
            ]
          },
          "metadata": {},
          "execution_count": 89
        }
      ]
    },
    {
      "cell_type": "code",
      "source": [],
      "metadata": {
        "id": "4IVQ1Xq7t0gD"
      },
      "execution_count": null,
      "outputs": []
    },
    {
      "cell_type": "code",
      "source": [
        "#Divisibilité d'un nombre = code Bouchaib\n",
        "def is_divisor(num,divisor):\n",
        "    try:\n",
        "        if divisor == 0:\n",
        "            print(\"la division n'est pas possible\")\n",
        "            return False\n",
        "\n",
        "        if num % divisor == 0:\n",
        "            return True\n",
        "        else:\n",
        "            return False\n",
        "    except ValueError:\n",
        "        print(\"Invalid input. Please enter valid integers for both numbers.\")"
      ],
      "metadata": {
        "id": "gqweF_NjpVN0"
      },
      "execution_count": null,
      "outputs": []
    },
    {
      "cell_type": "code",
      "source": [
        "is_divisor(12,3)"
      ],
      "metadata": {
        "colab": {
          "base_uri": "https://localhost:8080/"
        },
        "id": "LrpbHgdHqpEF",
        "outputId": "6bc00a76-d280-437a-c92e-5de79473fefd"
      },
      "execution_count": null,
      "outputs": [
        {
          "output_type": "execute_result",
          "data": {
            "text/plain": [
              "True"
            ]
          },
          "metadata": {},
          "execution_count": 56
        }
      ]
    },
    {
      "cell_type": "code",
      "source": [
        "for i in range (0,15,2):\n",
        "  print(i)"
      ],
      "metadata": {
        "colab": {
          "base_uri": "https://localhost:8080/"
        },
        "id": "QTr2cyqkyC3y",
        "outputId": "8c275d81-c1c7-4f73-bf6a-6588ec80d7c3"
      },
      "execution_count": null,
      "outputs": [
        {
          "output_type": "stream",
          "name": "stdout",
          "text": [
            "0\n",
            "2\n",
            "4\n",
            "6\n",
            "8\n",
            "10\n",
            "12\n",
            "14\n"
          ]
        }
      ]
    },
    {
      "cell_type": "code",
      "source": [
        "##set est une fonction qui rend une liste avec des élements uniques\n",
        "l={1,2,3,4,5,5}\n",
        "x=set(l)\n",
        "l1=list(x)\n",
        "print(x)\n"
      ],
      "metadata": {
        "colab": {
          "base_uri": "https://localhost:8080/"
        },
        "id": "j-LhYFQUzKkR",
        "outputId": "99425b5d-ac54-4fc3-9eea-4160bb8bfb1c"
      },
      "execution_count": null,
      "outputs": [
        {
          "output_type": "stream",
          "name": "stdout",
          "text": [
            "{1, 2, 3, 4, 5}\n"
          ]
        }
      ]
    },
    {
      "cell_type": "code",
      "source": [
        "def trouver_diviseurs(nombre):\n",
        "    diviseurs = set()\n",
        "    for i in range(1, nombre + 1):\n",
        "        if nombre % i == 0:\n",
        "            diviseurs.add(i)\n",
        "    return diviseurs\n",
        "    try:\n",
        "    nombre_choisi = int(input(\"choisir un nombre \"))"
      ],
      "metadata": {
        "colab": {
          "base_uri": "https://localhost:8080/",
          "height": 140
        },
        "id": "dKxZd0WSHapX",
        "outputId": "9596cce8-fe9a-402e-ea3f-4c7b947231b2"
      },
      "execution_count": null,
      "outputs": [
        {
          "output_type": "error",
          "ename": "IndentationError",
          "evalue": "ignored",
          "traceback": [
            "\u001b[0;36m  File \u001b[0;32m\"<ipython-input-4-a31738bef306>\"\u001b[0;36m, line \u001b[0;32m8\u001b[0m\n\u001b[0;31m    nombre_choisi = int(input(\"choisir un nombre \"))\u001b[0m\n\u001b[0m    ^\u001b[0m\n\u001b[0;31mIndentationError\u001b[0m\u001b[0;31m:\u001b[0m expected an indented block after 'try' statement on line 7\n"
          ]
        }
      ]
    },
    {
      "cell_type": "code",
      "source": [
        "diviseurs =trouver_diviseurs(12)"
      ],
      "metadata": {
        "colab": {
          "base_uri": "https://localhost:8080/",
          "height": 175
        },
        "id": "UTf7DmpyIJJu",
        "outputId": "7929d61e-a09d-4d4a-a048-d26659d485b3"
      },
      "execution_count": null,
      "outputs": [
        {
          "output_type": "error",
          "ename": "NameError",
          "evalue": "ignored",
          "traceback": [
            "\u001b[0;31m---------------------------------------------------------------------------\u001b[0m",
            "\u001b[0;31mNameError\u001b[0m                                 Traceback (most recent call last)",
            "\u001b[0;32m<ipython-input-3-c481b71c3997>\u001b[0m in \u001b[0;36m<cell line: 1>\u001b[0;34m()\u001b[0m\n\u001b[0;32m----> 1\u001b[0;31m \u001b[0mdiviseurs\u001b[0m \u001b[0;34m=\u001b[0m \u001b[0mtrouver_diviseurs\u001b[0m\u001b[0;34m(\u001b[0m\u001b[0;36m12\u001b[0m\u001b[0;34m)\u001b[0m\u001b[0;34m\u001b[0m\u001b[0;34m\u001b[0m\u001b[0m\n\u001b[0m",
            "\u001b[0;31mNameError\u001b[0m: name 'trouver_diviseurs' is not defined"
          ]
        }
      ]
    },
    {
      "cell_type": "code",
      "source": [
        "def diviseur(n):\n",
        "  # definir l'ensemble ens_divideur\n",
        "  ens_diviseur=set()\n",
        "  for i in range(1, n+1):\n",
        "    if n%i==0:\n",
        "      ens_diviseur.add(i)\n",
        "    else:\n",
        "      ens_diviseur\n",
        "  return ens_diviseur"
      ],
      "metadata": {
        "id": "yKe3HKvWIzb-"
      },
      "execution_count": null,
      "outputs": []
    },
    {
      "cell_type": "code",
      "source": [
        "# Exercice 1\n",
        "annee = int(input(\"Entrez une année : \"))\n",
        "if annee % 4 == 0:\n",
        "   print(\"l'année {} est divisible par 4\".format(annee))\n",
        "else:\n",
        "   print(\"l'année {} n'est pas divisible par 4\".format(annee))\n"
      ],
      "metadata": {
        "colab": {
          "base_uri": "https://localhost:8080/"
        },
        "id": "N9FEUETQK8nO",
        "outputId": "097d3dd2-c116-4967-d919-10a7b7292e06"
      },
      "execution_count": null,
      "outputs": [
        {
          "output_type": "stream",
          "name": "stdout",
          "text": [
            "Entrez une année : 2024\n",
            "l'année 2024 est divisible par 4\n"
          ]
        }
      ]
    },
    {
      "cell_type": "code",
      "source": [
        "# Exercice 2\n",
        "annee = int(input(\"Entrez une année : \"))\n",
        "\n",
        "# Vérifieer si l'année est bissextile\n",
        "if (annee % 4 == 0 and annee % 100 != 0) or (annee % 400 == 0):\n",
        "    print(\"L'année {} est bissextile.\".format(annee))\n",
        "else:\n",
        "       print(\"L'année {} n'est pas bissextile.\".format(annee))"
      ],
      "metadata": {
        "colab": {
          "base_uri": "https://localhost:8080/"
        },
        "id": "U2282J_LLqCZ",
        "outputId": "db0b6c14-8b8f-4a5c-a1c4-3948ac91b7de"
      },
      "execution_count": null,
      "outputs": [
        {
          "output_type": "stream",
          "name": "stdout",
          "text": [
            "Entrez une année : 2023\n",
            "L'année 2023 n'est pas bissextile.\n"
          ]
        }
      ]
    },
    {
      "cell_type": "code",
      "source": [
        "\"c'est une fonction qui mélange les élements d'une listes\"\n",
        "import random\n",
        "l={1,2,3,4,5,5}\n",
        "x=set(l)\n",
        "l1=list(x)\n",
        "random.shuffle(l1)\n",
        "print(l1)"
      ],
      "metadata": {
        "colab": {
          "base_uri": "https://localhost:8080/"
        },
        "id": "jFnqfmuGNjH-",
        "outputId": "42767eac-59ce-4c23-9a4c-d664070c7f74"
      },
      "execution_count": null,
      "outputs": [
        {
          "output_type": "stream",
          "name": "stdout",
          "text": [
            "[5, 2, 4, 1, 3]\n"
          ]
        }
      ]
    },
    {
      "cell_type": "code",
      "source": [
        "#Regarder les listes, les ensembles, les dictionnaires,......\n",
        "#Regarder les foction random.shuffle, random.sample, random......."
      ],
      "metadata": {
        "id": "NcNawDgtPXYH"
      },
      "execution_count": null,
      "outputs": []
    },
    {
      "cell_type": "code",
      "source": [
        "## présenter d'une manière aléatoire la liste\n",
        "new_list=[5, 7, 8, 9, 10]\n",
        "random.shuffle(new_list)\n",
        "print(new_list)"
      ],
      "metadata": {
        "colab": {
          "base_uri": "https://localhost:8080/"
        },
        "id": "Y6F7VxX6QW2x",
        "outputId": "ceea9593-8385-4613-dbe8-ecbd1f038263"
      },
      "execution_count": null,
      "outputs": [
        {
          "output_type": "stream",
          "name": "stdout",
          "text": [
            "[7, 5, 9, 8, 10]\n"
          ]
        }
      ]
    },
    {
      "cell_type": "code",
      "source": [
        "## présenter d'une manière aléatoire la liste\n",
        "new_list=[5, 7, 8, 9, 10]\n",
        "new_list.sort(reverse=True)\n",
        "print(\"Sorted List (Descending):\", new_list)"
      ],
      "metadata": {
        "colab": {
          "base_uri": "https://localhost:8080/"
        },
        "outputId": "16e86eac-b583-4d01-c125-4899dd7fdab5",
        "id": "P_M0PkN-RMnO"
      },
      "execution_count": null,
      "outputs": [
        {
          "output_type": "stream",
          "name": "stdout",
          "text": [
            "Sorted List (Descending): [10, 9, 8, 7, 5]\n"
          ]
        }
      ]
    },
    {
      "cell_type": "code",
      "source": [
        "##somme de deux listes\n",
        "list1=[1,2,3,4,5,6]\n",
        "list2=[6,5,4,3,2,1]\n",
        "list=list1+list2\n",
        "print(list)"
      ],
      "metadata": {
        "colab": {
          "base_uri": "https://localhost:8080/"
        },
        "id": "v7wxEMd9Rs2X",
        "outputId": "4a64724c-d4d3-47bc-dba7-108bb8717d06"
      },
      "execution_count": null,
      "outputs": [
        {
          "output_type": "stream",
          "name": "stdout",
          "text": [
            "[1, 2, 3, 4, 5, 6, 6, 5, 4, 3, 2, 1]\n"
          ]
        }
      ]
    },
    {
      "cell_type": "code",
      "source": [
        "my_list = [1, 2, 3, 4, 5]\n",
        "\n",
        "#Multiply every element by 2 using a list comprehension: boucle à l'intérieur de la liste\n",
        "result_list = [x * 2 for x in my_list]\n",
        "\n",
        "#Print the resulting list\n",
        "print(\"Result List (Using List Comprehension):\", result_list)"
      ],
      "metadata": {
        "colab": {
          "base_uri": "https://localhost:8080/"
        },
        "id": "iSlbVY3qS4DE",
        "outputId": "b1e3ef9d-bb74-48f4-e0ee-43dc2c0e1d15"
      },
      "execution_count": null,
      "outputs": [
        {
          "output_type": "stream",
          "name": "stdout",
          "text": [
            "Result List (Using List Comprehension): [2, 4, 6, 8, 10]\n"
          ]
        }
      ]
    },
    {
      "cell_type": "code",
      "source": [
        "\n",
        "new_list=[5, 7, 8, 9, 10]\n",
        "list=2*my_list\n",
        "print( \"la nouvelle liste est :\",list)"
      ],
      "metadata": {
        "colab": {
          "base_uri": "https://localhost:8080/"
        },
        "id": "dUozAYMTTKqR",
        "outputId": "845b30d2-4226-46e5-d413-acb2d773b7c5"
      },
      "execution_count": null,
      "outputs": [
        {
          "output_type": "stream",
          "name": "stdout",
          "text": [
            "la nouvelle liste est : [1, 2, 3, 4, 5, 1, 2, 3, 4, 5]\n"
          ]
        }
      ]
    },
    {
      "cell_type": "markdown",
      "source": [
        "**Boucles **"
      ],
      "metadata": {
        "id": "SXD0v-4wUnWd"
      }
    },
    {
      "cell_type": "code",
      "source": [
        " #\n",
        " ch = input(\"Entrez un nombre : \")\n",
        " x = int(ch)\n",
        " i = 0\n",
        " while i < x:\n",
        "      print(i)\n",
        "      i +=1"
      ],
      "metadata": {
        "colab": {
          "base_uri": "https://localhost:8080/"
        },
        "id": "dRGBxM9fUsen",
        "outputId": "713402ed-54e6-436a-c898-1561feff907c"
      },
      "execution_count": null,
      "outputs": [
        {
          "output_type": "stream",
          "name": "stdout",
          "text": [
            "Entrez un nombre : 6\n",
            "0\n",
            "1\n",
            "2\n",
            "3\n",
            "4\n",
            "5\n"
          ]
        }
      ]
    },
    {
      "cell_type": "code",
      "source": [
        "#Boucler jusqu’à ce que l’utilisateur veuille quitter\n",
        "quitter=\"non\"\n",
        "while quitter==\"non\":\n",
        "      quitter = input(\"voulez vous quitter: \")"
      ],
      "metadata": {
        "colab": {
          "base_uri": "https://localhost:8080/"
        },
        "id": "a332IGO3Wtz3",
        "outputId": "a2f34ed9-6946-4b3a-c738-e06f3ee81b1b"
      },
      "execution_count": null,
      "outputs": [
        {
          "name": "stdout",
          "output_type": "stream",
          "text": [
            "voulez vous quitter: non\n",
            "voulez vous quitter: non\n",
            "voulez vous quitter: oui\n"
          ]
        }
      ]
    },
    {
      "cell_type": "code",
      "source": [
        "#Boucler jusqu'à ce que le jeu soit terminé\n",
        "terminer = False\n",
        "while not terminer:\n",
        "    quitter = input(\"Voulez -vous quitter ? \")\n",
        "    if quitter == \"oui\":\n",
        "       terminer = True\n",
        "    else:\n",
        "       att = input(\"Voulez -vous attaquer le dragon ? \")\n",
        "       if att == \"oui\":\n",
        "          print(\"Mauvais choix , vous êtes mort !\")\n",
        "          terminer = True\n"
      ],
      "metadata": {
        "colab": {
          "base_uri": "https://localhost:8080/"
        },
        "id": "-sblU49AXdp2",
        "outputId": "2c29e2a9-0719-4cb7-a7ac-630e6b927490"
      },
      "execution_count": null,
      "outputs": [
        {
          "output_type": "stream",
          "name": "stdout",
          "text": [
            "Voulez -vous quitter ? non\n",
            "Voulez -vous attaquer le dragon ? non\n",
            "Voulez -vous quitter ? non\n",
            "Voulez -vous attaquer le dragon ? oui\n",
            "Mauvais choix , vous êtes mort !\n"
          ]
        }
      ]
    },
    {
      "cell_type": "code",
      "source": [
        "#Programme pour inverser une phrase:\n",
        "def phrase_a_lenvers(phrase):\n",
        "    mots = phrase.split()\n",
        "    phrase_inverse =\" \".join(mots[::-1])\n",
        "    return phrase_inverse\n",
        "\n",
        "# Demander à l'utilisateur d'entrer une phrase\n",
        "\n",
        "phrase_origine=input(\"Entrez une phrase : \")\n",
        "\n",
        "# Appeller la fonction pour inverser la phrase\n",
        "resultat = phrase_a_lenvers(phrase_origine)\n",
        "\n",
        "# Affiche la phrase inversée\n",
        "print(\"Phrase à l'envers :\", resultat)\n",
        "\n"
      ],
      "metadata": {
        "colab": {
          "base_uri": "https://localhost:8080/"
        },
        "id": "rgeJwZ0QkCTo",
        "outputId": "2362a942-b552-4213-a90a-b09518956e07"
      },
      "execution_count": null,
      "outputs": [
        {
          "output_type": "stream",
          "name": "stdout",
          "text": [
            "Entrez une phrase : Je suis belle \n",
            "Phrase à l'envers : belle suis Je\n"
          ]
        }
      ]
    },
    {
      "cell_type": "code",
      "source": [
        "def somme(*args):\n",
        "    total = 0\n",
        "    for nombre in args:\n",
        "        total += nombre\n",
        "    return total"
      ],
      "metadata": {
        "id": "WOcc3B_GmnGK"
      },
      "execution_count": null,
      "outputs": []
    },
    {
      "cell_type": "code",
      "source": [
        "somme(1,2,3,4,5,6)"
      ],
      "metadata": {
        "colab": {
          "base_uri": "https://localhost:8080/"
        },
        "id": "5PltX8tFm4K0",
        "outputId": "ef8ebfb9-f5d0-48cc-b81a-ec0acd4eff65"
      },
      "execution_count": null,
      "outputs": [
        {
          "output_type": "execute_result",
          "data": {
            "text/plain": [
              "21"
            ]
          },
          "metadata": {},
          "execution_count": 68
        }
      ]
    },
    {
      "cell_type": "code",
      "source": [
        "#Define the somme function that calculates the sum of a variable number of arguments.\n",
        "def somme(args):\n",
        "    # Initialize a variable to store the sum.\n",
        "    total = 0\n",
        "\n",
        "#Iterate through the arguments using a for loop.\n",
        "    for nombre in args:\n",
        "        # Add each argument to the total.\n",
        "        total += nombre\n",
        "\n",
        "#Return the total sum as the result of the function.\n",
        "    return total\n",
        "\n",
        "\n",
        "#Get user input for the arguments\n",
        "user_input = input(\"Enter a list of numbers separated by spaces: \")\n",
        "\n",
        "#Split the user input into individual numbers\n",
        "user_args = [int(x) for x in user_input.split()]\n",
        "\n",
        "#Call the somme function with the user's arguments\n",
        "result = somme(user_args)\n",
        "\n",
        "#Print the result\n",
        "print(\"The sum is:\", result)"
      ],
      "metadata": {
        "colab": {
          "base_uri": "https://localhost:8080/"
        },
        "id": "qgxVTYz9omuW",
        "outputId": "32cffd32-5b6c-411c-be25-489b7aa82552"
      },
      "execution_count": null,
      "outputs": [
        {
          "output_type": "stream",
          "name": "stdout",
          "text": [
            "Enter a list of numbers separated by spaces: 2 3 4 5 6 7 9 \n",
            "The sum is: 36\n"
          ]
        }
      ]
    },
    {
      "cell_type": "code",
      "source": [
        "str_1=\"hello\"\n",
        "def revname(str_1):\n",
        "  my_lis=[]\n",
        "  for i in str_1:\n",
        "    my_lis.append(i)\n",
        "    my_lis.sort(reverse=True)\n",
        "  return my_lis\n",
        "\n",
        "print(revname(\"hello\"))"
      ],
      "metadata": {
        "colab": {
          "base_uri": "https://localhost:8080/"
        },
        "id": "rPSW_C9jqy1g",
        "outputId": "9875aa98-5eb4-462e-d746-54940643958a"
      },
      "execution_count": null,
      "outputs": [
        {
          "output_type": "stream",
          "name": "stdout",
          "text": [
            "['o', 'l', 'l', 'h', 'e']\n"
          ]
        }
      ]
    },
    {
      "cell_type": "markdown",
      "source": [
        "**Les Dictionnaires**"
      ],
      "metadata": {
        "id": "DVWC5tClsRnD"
      }
    },
    {
      "cell_type": "code",
      "source": [
        "d = {}#créer un dictionnaire vide\n",
        "#ajouter une entrée dans le dictionnaire dont la clé\n",
        "#nom et la valeur est mhadhbi\n",
        "#dans un dictinnaire les clés sont uniques\n",
        "d[\"nom\"] =\"Jean\"\n",
        "d[\"age\"]= 32\n",
        "d[\"age\"] = 29\n",
        "d[1] = 10\n",
        "#print(d)\n",
        "#afficher le nom dans le dictionnaire\n",
        "print(d[\"age\"])\n",
        "#afficher les clés dans une liste\n",
        "print(d.keys())\n",
        "#vérifier si une clé est dans le dictionnaire\n",
        "if(\"age\" in d):\n",
        "    print(\"la clé age existe\")\n",
        "else:\n",
        "    print(\"n\\'existe pas\")\n",
        "#afficher les valeurs\n",
        "print(d.values())\n",
        "#afficher les valeurs dans une liste\n",
        "print(d.values())"
      ],
      "metadata": {
        "colab": {
          "base_uri": "https://localhost:8080/"
        },
        "id": "384Pq7rKsZyZ",
        "outputId": "67b15c28-ee9f-4ffb-afed-b9002e9275af"
      },
      "execution_count": null,
      "outputs": [
        {
          "output_type": "stream",
          "name": "stdout",
          "text": [
            "29\n",
            "dict_keys(['nom', 'age', 1])\n",
            "la clé age existe\n",
            "dict_values(['Jean', 29, 10])\n",
            "dict_values(['Jean', 29, 10])\n"
          ]
        }
      ]
    },
    {
      "cell_type": "code",
      "source": [
        "S"
      ],
      "metadata": {
        "id": "NbAFWN5tx24L"
      },
      "execution_count": null,
      "outputs": []
    },
    {
      "cell_type": "code",
      "source": [
        "#Créer des filtres pour trouver des élements dans une liste de dictionnaires:Methode 1\n",
        "etudiants = [\n",
        "    {\"name\": \"Doe\", \"first_name\": \"John\", \"ville\": \"Paris\"},\n",
        "    {\"name\": \"Smith\", \"first_name\": \"Jane\", \"ville\": 'Lille'},\n",
        "    {\"name\": \"Brown\", \"first_name\": 'David', 'ville': 'Rennes'},\n",
        "    {\"name\": \"Martin\", \"first_name\": 'John', 'ville': 'Paris'},\n",
        "    {\"name\": \"Wilso\", \"first_name\": 'Sophia', 'ville': 'Paris'},\n",
        "    {\"name\": \"Garcia\", \"first_name\": 'Liam', 'ville': 'Lille'},\n",
        "    {\"name\": \"Lee\", \"first_name\": 'John', 'ville': 'Rennes'},\n",
        "    {\"name\": \"Taylor\", \"first_name\": 'Lucas', 'ville': 'Paris'},\n",
        "    {\"name\": \"Anderson\", \"first_name\": 'Mia', 'ville': 'Lille'},\n",
        "    {\"name\": \"Harris\",\"first_name\": 'Noah', 'ville': 'Paris'}\n",
        "]\n",
        "etudiants_paris_john = [etudiant for etudiant in etudiants if etudiant['ville'] == 'Paris' and etudiant['first_name'] == 'John']\n",
        "for etudiant in etudiants_paris_john:\n",
        "    print(f\"{etudiant['first_name']} {etudiant['name']} habite à Paris.\")"
      ],
      "metadata": {
        "colab": {
          "base_uri": "https://localhost:8080/"
        },
        "id": "9rfGiwpdw6Fk",
        "outputId": "9a7565d9-835d-4409-ad12-5d72ab5ae8ac"
      },
      "execution_count": 105,
      "outputs": [
        {
          "output_type": "stream",
          "name": "stdout",
          "text": [
            "John Doe habite à Paris.\n",
            "John Martin habite à Paris.\n"
          ]
        }
      ]
    },
    {
      "cell_type": "code",
      "source": [
        "#Créer des filtres pour trouver des élements dans une liste de dictionnaires:Methode 2\n",
        "\n",
        "#Création de la fonction\n",
        "'''\n",
        "inputs:liste des dictionnaires contenant les informations des étudiants\n",
        "outputs: liste des étudiants répondant au filtrage\n",
        "'''\n",
        "def trouver_element(first_name:str,city:str)->list:\n",
        "#création du filtre de recherche\n",
        "    element_cherche=[etudiant for etudiant in etudiants if etudiant['first_name']==first_name and etudiant['ville']==city]\n",
        "    return element_cherche\n"
      ],
      "metadata": {
        "id": "Y0EXkqw2WCuf"
      },
      "execution_count": 81,
      "outputs": []
    },
    {
      "cell_type": "code",
      "source": [
        "trouver_element('John','Paris')"
      ],
      "metadata": {
        "colab": {
          "base_uri": "https://localhost:8080/"
        },
        "id": "pjCbucDVf0JS",
        "outputId": "39e03e3c-da99-46a6-e4e0-10cc8d68ebaa"
      },
      "execution_count": 82,
      "outputs": [
        {
          "output_type": "execute_result",
          "data": {
            "text/plain": [
              "[{'name': 'Doe', 'first_name': 'John', 'ville': 'Paris'},\n",
              " {'name': 'Martin', 'first_name': 'John', 'ville': 'Paris'}]"
            ]
          },
          "metadata": {},
          "execution_count": 82
        }
      ]
    },
    {
      "cell_type": "code",
      "source": [
        "def filter_student(param1, param2, val1, val2):\n",
        "  # creation liste pour filtrer les etudiants selon les paramètres choisis\n",
        "  # input : liste des etudiants, paramètres de filtrage\n",
        "  # output : liste des étudiants recherchés\n",
        "  list_student = [etudiant for etudiant in etudiants if etudiant[param1]==val1 and etudiant[param2]==val2]\n",
        "  return list_student\n"
      ],
      "metadata": {
        "id": "SUJWw7ichZNb"
      },
      "execution_count": 27,
      "outputs": []
    },
    {
      "cell_type": "code",
      "source": [
        "filter_student('first_name','John','Paris')"
      ],
      "metadata": {
        "colab": {
          "base_uri": "https://localhost:8080/",
          "height": 279
        },
        "id": "jhLf3zw7hgJK",
        "outputId": "4240b40b-b2d3-45e1-b4a5-1a171975af22"
      },
      "execution_count": 70,
      "outputs": [
        {
          "output_type": "error",
          "ename": "TypeError",
          "evalue": "ignored",
          "traceback": [
            "\u001b[0;31m---------------------------------------------------------------------------\u001b[0m",
            "\u001b[0;31mTypeError\u001b[0m                                 Traceback (most recent call last)",
            "\u001b[0;32m<ipython-input-70-0143d10dae58>\u001b[0m in \u001b[0;36m<cell line: 1>\u001b[0;34m()\u001b[0m\n\u001b[0;32m----> 1\u001b[0;31m \u001b[0mfilter_student\u001b[0m\u001b[0;34m(\u001b[0m\u001b[0metudiants\u001b[0m\u001b[0;34m,\u001b[0m\u001b[0;34m'first_name'\u001b[0m\u001b[0;34m,\u001b[0m\u001b[0;34m'John'\u001b[0m\u001b[0;34m,\u001b[0m\u001b[0;34m'Paris'\u001b[0m\u001b[0;34m)\u001b[0m\u001b[0;34m\u001b[0m\u001b[0;34m\u001b[0m\u001b[0m\n\u001b[0m",
            "\u001b[0;32m<ipython-input-27-07a44deb7b35>\u001b[0m in \u001b[0;36mfilter_student\u001b[0;34m(param1, param2, val1, val2)\u001b[0m\n\u001b[1;32m      3\u001b[0m   \u001b[0;31m# input : liste des etudiants, paramètres de filtrage\u001b[0m\u001b[0;34m\u001b[0m\u001b[0;34m\u001b[0m\u001b[0m\n\u001b[1;32m      4\u001b[0m   \u001b[0;31m# output : liste des étudiants recherchés\u001b[0m\u001b[0;34m\u001b[0m\u001b[0;34m\u001b[0m\u001b[0m\n\u001b[0;32m----> 5\u001b[0;31m   \u001b[0mlist_student\u001b[0m \u001b[0;34m=\u001b[0m \u001b[0;34m[\u001b[0m\u001b[0metudiant\u001b[0m \u001b[0;32mfor\u001b[0m \u001b[0metudiant\u001b[0m \u001b[0;32min\u001b[0m \u001b[0metudiants\u001b[0m \u001b[0;32mif\u001b[0m \u001b[0metudiant\u001b[0m\u001b[0;34m[\u001b[0m\u001b[0mparam1\u001b[0m\u001b[0;34m]\u001b[0m\u001b[0;34m==\u001b[0m\u001b[0mval1\u001b[0m \u001b[0;32mand\u001b[0m \u001b[0metudiant\u001b[0m\u001b[0;34m[\u001b[0m\u001b[0mparam2\u001b[0m\u001b[0;34m]\u001b[0m\u001b[0;34m==\u001b[0m\u001b[0mval2\u001b[0m\u001b[0;34m]\u001b[0m\u001b[0;34m\u001b[0m\u001b[0;34m\u001b[0m\u001b[0m\n\u001b[0m\u001b[1;32m      6\u001b[0m   \u001b[0;32mreturn\u001b[0m \u001b[0mlist_student\u001b[0m\u001b[0;34m\u001b[0m\u001b[0;34m\u001b[0m\u001b[0m\n",
            "\u001b[0;31mTypeError\u001b[0m: 'NoneType' object is not iterable"
          ]
        }
      ]
    },
    {
      "cell_type": "code",
      "source": [
        "#Ajouter des dictionnaires à la liste des étudiants\n",
        "\n",
        "etudiants=etudiants.append([{\"name\": \"Fatima\",\"first_name\": 'Abaaouch', 'ville': 'Lille'},{\"name\": \"Amine\",\"first_name\": 'Taqi', 'ville': 'Lyon'}])"
      ],
      "metadata": {
        "id": "e6dgbhhnmJZQ"
      },
      "execution_count": 68,
      "outputs": []
    },
    {
      "cell_type": "code",
      "source": [
        "print(etudiants)"
      ],
      "metadata": {
        "colab": {
          "base_uri": "https://localhost:8080/"
        },
        "id": "GPWtaNAqmudV",
        "outputId": "6fa8bb10-b9a9-4ef5-b2b1-0c15e1eb4ecc"
      },
      "execution_count": 69,
      "outputs": [
        {
          "output_type": "stream",
          "name": "stdout",
          "text": [
            "None\n"
          ]
        }
      ]
    },
    {
      "cell_type": "code",
      "source": [
        "first_name=input(\"entrez le nom :\")\n",
        "city=input(\"entrez la ville :\")"
      ],
      "metadata": {
        "colab": {
          "base_uri": "https://localhost:8080/"
        },
        "id": "-l_QdafJn-Bc",
        "outputId": "c16500d1-a5cb-40e7-c0e2-fba6e71e286d"
      },
      "execution_count": 74,
      "outputs": [
        {
          "name": "stdout",
          "output_type": "stream",
          "text": [
            "entrez le nom :Lucas\n",
            "entrez la ville :Paris\n"
          ]
        }
      ]
    },
    {
      "cell_type": "code",
      "source": [
        "trouver_element(first_name,city)"
      ],
      "metadata": {
        "colab": {
          "base_uri": "https://localhost:8080/"
        },
        "id": "3okwT8pXx9iu",
        "outputId": "cb441018-7cea-4bca-fd63-ea126d920518"
      },
      "execution_count": 78,
      "outputs": [
        {
          "output_type": "execute_result",
          "data": {
            "text/plain": [
              "[{'name': 'Taylor', 'first_name': 'Lucas', 'ville': 'Paris'}]"
            ]
          },
          "metadata": {},
          "execution_count": 78
        }
      ]
    },
    {
      "cell_type": "code",
      "source": [
        "#Création d'une fonction qui vérifie lors d'un nouvel enregistrement est ce qui'il y a pas de doublon\n",
        "'''\n",
        "les inputs: la liste à modifier, le nouvel enregistrement\n",
        "Les outputs:\n",
        "'''\n",
        "def ajouter_enregistrement_sans_doublon(liste:list, nouvel_enregistrement:dict):\n",
        "    # Vérifier si l'enregistrement existe déjà dans la liste\n",
        "    for enregistrement in liste:\n",
        "        if enregistrement == nouvel_enregistrement:\n",
        "            print(\"L'enregistrement existe déjà, aucune duplication autorisée.\")\n",
        "        return\n",
        "    # Si l'enregistrement n'existe pas, l'ajouter à la liste\n",
        "    liste.append(nouvel_enregistrement)\n",
        "    print(\"Enregistrement ajouté avec succès.\")\n",
        "\n"
      ],
      "metadata": {
        "colab": {
          "base_uri": "https://localhost:8080/",
          "height": 140
        },
        "id": "OTi5vS5u1qMj",
        "outputId": "7d3c06e3-c3eb-4e1e-cf2f-f42b4f493aba"
      },
      "execution_count": 115,
      "outputs": [
        {
          "output_type": "error",
          "ename": "SyntaxError",
          "evalue": "ignored",
          "traceback": [
            "\u001b[0;36m  File \u001b[0;32m\"<ipython-input-115-b010d91cdc5c>\"\u001b[0;36m, line \u001b[0;32m14\u001b[0m\n\u001b[0;31m    else:\u001b[0m\n\u001b[0m    ^\u001b[0m\n\u001b[0;31mSyntaxError\u001b[0m\u001b[0;31m:\u001b[0m invalid syntax\n"
          ]
        }
      ]
    },
    {
      "cell_type": "code",
      "source": [
        "#Tester la fonction\n",
        "etudiants = [\n",
        "    {\"name\": \"Doe\", \"first_name\": \"John\", \"ville\": \"Paris\"},\n",
        "    {\"name\": \"Smith\", \"first_name\": \"Jane\", \"ville\": 'Lille'},\n",
        "    {\"name\": \"Brown\", \"first_name\": 'David', 'ville': 'Rennes'},\n",
        "    {\"name\": \"Martin\", \"first_name\": 'John', 'ville': 'Paris'},\n",
        "    {\"name\": \"Wilso\", \"first_name\": 'Sophia', 'ville': 'Paris'},\n",
        "    {\"name\": \"Garcia\", \"first_name\": 'Liam', 'ville': 'Lille'},\n",
        "    {\"name\": \"Lee\", \"first_name\": 'John', 'ville': 'Rennes'},\n",
        "    {\"name\": \"Taylor\", \"first_name\": 'Lucas', 'ville': 'Paris'},\n",
        "    {\"name\": \"Anderson\", \"first_name\": 'Mia', 'ville': 'Lille'},\n",
        "    {\"name\": \"Harris\",\"first_name\": 'Noah', 'ville': 'Paris'}\n",
        "]\n",
        "nouvel_enregistrement={\"name\": \"Fatima\",\"first_name\": 'Abaaouch', 'ville': 'Lille'}\n",
        "ajouter_enregistrement_sans_doublon(etudiants, nouvel_enregistrement)\n",
        "print(etudiants)\n"
      ],
      "metadata": {
        "colab": {
          "base_uri": "https://localhost:8080/"
        },
        "id": "QDwSoF606mY9",
        "outputId": "a3830b73-62e6-4a1c-e363-cae06aa42cf4"
      },
      "execution_count": 113,
      "outputs": [
        {
          "output_type": "stream",
          "name": "stdout",
          "text": [
            "[{'name': 'Doe', 'first_name': 'John', 'ville': 'Paris'}, {'name': 'Smith', 'first_name': 'Jane', 'ville': 'Lille'}, {'name': 'Brown', 'first_name': 'David', 'ville': 'Rennes'}, {'name': 'Martin', 'first_name': 'John', 'ville': 'Paris'}, {'name': 'Wilso', 'first_name': 'Sophia', 'ville': 'Paris'}, {'name': 'Garcia', 'first_name': 'Liam', 'ville': 'Lille'}, {'name': 'Lee', 'first_name': 'John', 'ville': 'Rennes'}, {'name': 'Taylor', 'first_name': 'Lucas', 'ville': 'Paris'}, {'name': 'Anderson', 'first_name': 'Mia', 'ville': 'Lille'}, {'name': 'Harris', 'first_name': 'Noah', 'ville': 'Paris'}]\n"
          ]
        }
      ]
    },
    {
      "cell_type": "code",
      "source": [
        "with open('/content/Fatima.txt', 'r') as f:\n",
        "        lignes = f.readlines()\n",
        "        print(lignes)"
      ],
      "metadata": {
        "colab": {
          "base_uri": "https://localhost:8080/"
        },
        "id": "CxrnPeSl-AWi",
        "outputId": "6e2d4435-e922-4d9f-aa8f-a769063b41d6"
      },
      "execution_count": 173,
      "outputs": [
        {
          "output_type": "stream",
          "name": "stdout",
          "text": [
            "['Bonjour; Marilyne;\\n', 'Tu; es; une; belle; femme']\n"
          ]
        }
      ]
    },
    {
      "cell_type": "code",
      "source": [
        "#Définition de la fontion\n",
        "def read_doc(parametre1:str):\n",
        " with open(parametre1, 'r') as f:\n",
        "        lignes = f.readlines()\n",
        " return lignes[].strip().split(',')\n",
        "\n",
        "\n",
        "\n"
      ],
      "metadata": {
        "colab": {
          "base_uri": "https://localhost:8080/",
          "height": 140
        },
        "id": "fHhFP3JX_wBT",
        "outputId": "2bc109a9-570b-4c5b-8403-70e7997fa13f"
      },
      "execution_count": 191,
      "outputs": [
        {
          "output_type": "error",
          "ename": "SyntaxError",
          "evalue": "ignored",
          "traceback": [
            "\u001b[0;36m  File \u001b[0;32m\"<ipython-input-191-32c62a32ad0b>\"\u001b[0;36m, line \u001b[0;32m5\u001b[0m\n\u001b[0;31m    return lignes[].strip().split(',')\u001b[0m\n\u001b[0m                  ^\u001b[0m\n\u001b[0;31mSyntaxError\u001b[0m\u001b[0;31m:\u001b[0m invalid syntax\n"
          ]
        }
      ]
    },
    {
      "cell_type": "code",
      "source": [
        "read_doc('/content/ds_locations1.txt')"
      ],
      "metadata": {
        "colab": {
          "base_uri": "https://localhost:8080/",
          "height": 297
        },
        "id": "IRAviUYGBsyH",
        "outputId": "cf0f20a1-3d17-41d2-9429-33d9dc808668"
      },
      "execution_count": 180,
      "outputs": [
        {
          "output_type": "error",
          "ename": "AttributeError",
          "evalue": "ignored",
          "traceback": [
            "\u001b[0;31m---------------------------------------------------------------------------\u001b[0m",
            "\u001b[0;31mAttributeError\u001b[0m                            Traceback (most recent call last)",
            "\u001b[0;32m<ipython-input-180-ce4a6a84b51f>\u001b[0m in \u001b[0;36m<cell line: 1>\u001b[0;34m()\u001b[0m\n\u001b[0;32m----> 1\u001b[0;31m \u001b[0mread_doc\u001b[0m\u001b[0;34m(\u001b[0m\u001b[0;34m'/content/ds_locations1.txt'\u001b[0m\u001b[0;34m)\u001b[0m\u001b[0;34m\u001b[0m\u001b[0;34m\u001b[0m\u001b[0m\n\u001b[0m",
            "\u001b[0;32m<ipython-input-179-8ff2bd9881ba>\u001b[0m in \u001b[0;36mread_doc\u001b[0;34m(parametre1)\u001b[0m\n\u001b[1;32m      3\u001b[0m  \u001b[0;32mwith\u001b[0m \u001b[0mopen\u001b[0m\u001b[0;34m(\u001b[0m\u001b[0mparametre1\u001b[0m\u001b[0;34m,\u001b[0m \u001b[0;34m'r'\u001b[0m\u001b[0;34m)\u001b[0m \u001b[0;32mas\u001b[0m \u001b[0mf\u001b[0m\u001b[0;34m:\u001b[0m\u001b[0;34m\u001b[0m\u001b[0;34m\u001b[0m\u001b[0m\n\u001b[1;32m      4\u001b[0m         \u001b[0mlignes\u001b[0m \u001b[0;34m=\u001b[0m \u001b[0mf\u001b[0m\u001b[0;34m.\u001b[0m\u001b[0mreadlines\u001b[0m\u001b[0;34m(\u001b[0m\u001b[0;34m)\u001b[0m\u001b[0;34m\u001b[0m\u001b[0;34m\u001b[0m\u001b[0m\n\u001b[0;32m----> 5\u001b[0;31m  \u001b[0;32mreturn\u001b[0m \u001b[0mlignes\u001b[0m\u001b[0;34m.\u001b[0m\u001b[0mstrip\u001b[0m\u001b[0;34m(\u001b[0m\u001b[0;34m)\u001b[0m\u001b[0;34m.\u001b[0m\u001b[0msplit\u001b[0m\u001b[0;34m(\u001b[0m\u001b[0;34m','\u001b[0m\u001b[0;34m)\u001b[0m\u001b[0;34m\u001b[0m\u001b[0;34m\u001b[0m\u001b[0m\n\u001b[0m\u001b[1;32m      6\u001b[0m \u001b[0;34m\u001b[0m\u001b[0m\n\u001b[1;32m      7\u001b[0m \u001b[0;34m\u001b[0m\u001b[0m\n",
            "\u001b[0;31mAttributeError\u001b[0m: 'list' object has no attribute 'strip'"
          ]
        }
      ]
    },
    {
      "cell_type": "code",
      "source": [
        "\"Bonjour; Marilyne\".strip().split()"
      ],
      "metadata": {
        "colab": {
          "base_uri": "https://localhost:8080/"
        },
        "id": "YLN7rp8BRS-O",
        "outputId": "7043093c-646d-4f86-84f0-1db824258f66"
      },
      "execution_count": 121,
      "outputs": [
        {
          "output_type": "execute_result",
          "data": {
            "text/plain": [
              "['Bonjour;', 'Marilyne']"
            ]
          },
          "metadata": {},
          "execution_count": 121
        }
      ]
    },
    {
      "cell_type": "code",
      "source": [
        "ligne_affichage=[]\n",
        "with open('/content/Fatima.txt', 'r') as f:\n",
        "        lignes = f.readlines()\n",
        "for i in range(0,len(lignes)):\n",
        "    ligne_affichage.append(lignes[i].strip().split(','))\n",
        "    print(ligne_affichage)\n",
        "\n",
        ""
      ],
      "metadata": {
        "colab": {
          "base_uri": "https://localhost:8080/"
        },
        "id": "aHshGOqkSQPD",
        "outputId": "5973e3a2-4846-48c6-d1f4-748188ce61f9"
      },
      "execution_count": 130,
      "outputs": [
        {
          "output_type": "stream",
          "name": "stdout",
          "text": [
            "[['Bonjour; Marilyne;']]\n",
            "[['Bonjour; Marilyne;'], ['Tu; es; une; belle; femme']]\n"
          ]
        }
      ]
    },
    {
      "cell_type": "code",
      "source": [
        "\n",
        "def read_doc(parametre1:str):\n",
        "  '''\n",
        "  inputs: les lignes du fichier\n",
        "  outputs: liste de dictionnaires\n",
        "  '''\n",
        "#Lecture d'un fichier et récuperation de ces lignes sous fome de liste\n",
        "  with open(parametre1, 'r') as f:\n",
        "        lignes = f.readlines()\n",
        "        ligne_affichage=[]\n",
        "  for i in range(0,len(lignes)):\n",
        "    ligne_affichage.append(lignes[i].strip().split(','))\n",
        "    return ligne_affichage"
      ],
      "metadata": {
        "id": "5aUklgxWYaA7"
      },
      "execution_count": 162,
      "outputs": []
    },
    {
      "cell_type": "code",
      "source": [
        "read_doc('/content/ds_locations1.txt')"
      ],
      "metadata": {
        "colab": {
          "base_uri": "https://localhost:8080/"
        },
        "id": "F8FCy7PHfdg2",
        "outputId": "2645ba49-8bc1-49c1-d4c2-f4b9d119a71a"
      },
      "execution_count": 159,
      "outputs": [
        {
          "output_type": "execute_result",
          "data": {
            "text/plain": [
              "[['identifiant',\n",
              "  'qualite',\n",
              "  'raison_sociale',\n",
              "  'nom',\n",
              "  'prenom',\n",
              "  'Label',\n",
              "  'adresse',\n",
              "  'code_postal',\n",
              "  'ville',\n",
              "  'nb_jours_benef',\n",
              "  'prix_jour']]"
            ]
          },
          "metadata": {},
          "execution_count": 159
        }
      ]
    },
    {
      "cell_type": "code",
      "source": [
        "#Définition de la fontion qui récupère des lignes à partir d'un texte\n",
        "def read_doc(parametre1:str):\n",
        " with open(parametre1, 'r') as f:\n",
        "        texte_en_lignes = f.readlines()\n",
        "        texte_en_lignes.sp\n",
        "\n",
        " return texte_en_lignes\n"
      ],
      "metadata": {
        "id": "MbT4jAOVli8v"
      },
      "execution_count": 192,
      "outputs": []
    },
    {
      "cell_type": "code",
      "source": [
        "read_doc('/content/ds_locations1.txt')"
      ],
      "metadata": {
        "colab": {
          "base_uri": "https://localhost:8080/"
        },
        "id": "RIDFh1H73KVJ",
        "outputId": "04617ef4-675d-4f48-f985-56b8008d0296"
      },
      "execution_count": 193,
      "outputs": [
        {
          "output_type": "execute_result",
          "data": {
            "text/plain": [
              "['identifiant,qualite,raison_sociale,nom,prenom,Label,adresse,code_postal,ville,nb_jours_benef,prix_jour\\n',\n",
              " '1,personne_morale,ACME_Corporation,,,ACME_Corporation,123 Rue de la Societe,75001,Paris,120,50.0\\n',\n",
              " '2,personne_physique,,Smith,John,Smith_John,456 Elm Street,90210,Los Angeles,90,60.0\\n',\n",
              " '3,personne_morale,TechCorp,,,TechCorp,789 Tech Avenue,94105,San Francisco,150,75.0\\n',\n",
              " '4,personne_physique,,Brown,Alice,Brown_Alice,321 Oak Lane,30301,Atlanta,75,65.0\\n',\n",
              " '5,personne_morale,Global_Inc,,,Global_Inc,555 Main Road,60601,Chicago,180,55.0\\n',\n",
              " '6,personne_physique,,Johnson,Michael,Johnson_Michael,777 Elm Street,10001,New York,60,70.0\\n',\n",
              " '7,personne_morale,InnoSolutions,,,InnoSolutions,888 Innovation Way,30303,Atlanta,210,80.0\\n',\n",
              " '8,personne_physique,,Anderson,Emma,Anderson_Emma,999 Elm Street,90001,Los Angeles,30,70.0\\n',\n",
              " '9,personne_morale,DataCo_Ltd,,,DataCo_Ltd,111 Data Drive,94025,Palo Alto,270,45.0\\n',\n",
              " '10,personne_physique,,Clark,David,Clark_David,222 Maple Avenue,60603,Chicago,45,60.0\\n',\n",
              " '11,personne_morale,XYZ_Group,,,XYZ_Group,333 Business Blvd,75201,Dallas,300,50.0\\n',\n",
              " '12,personne_physique,,Harris,Susan,Harris_Susan,444 Park Street,94110,San Francisco,15,70.0\\n',\n",
              " '13,personne_morale,ABC_Consulting,,,ABC_Consulting,555 Consulting Lane,30320,Atlanta,240,65.0\\n',\n",
              " '14,personne_physique,,Lee,Robert,Lee_Robert,666 Elm Street,10005,New York,75,75.0\\n',\n",
              " '15,personne_morale,FutureTech_Solutions,,,FutureTech_Solutions,777 Future Drive,94030,Palo Alto,180,55.0\\n',\n",
              " '16,personne_physique,,Wang,Li,Wang_Li,123 Elm Street,90210,Los Angeles,120,80.0\\n',\n",
              " '17,personne_morale,InnovativeCorp,,,InnovativeCorp,789 Innovation Road,60601,Chicago,90,70.0\\n',\n",
              " '18,personne_physique,,Garcia,Carlos,Garcia_Carlos,321 Oak Avenue,30301,Atlanta,30,65.0\\n',\n",
              " '19,personne_morale,DataTech_Ltd,,,DataTech_Ltd,444 Data Drive,94105,San Francisco,210,55.0\\n',\n",
              " '20,personne_physique,,Lopez,Maria,Lopez_Maria,555 Park Lane,75201,Dallas,150,75.0\\n']"
            ]
          },
          "metadata": {},
          "execution_count": 193
        }
      ]
    },
    {
      "cell_type": "code",
      "source": [
        "def texte_en_liste(texte:str):\n",
        "\n",
        "  with open(texte, 'r') as f:\n",
        "     lignes=f.readlines()\n",
        "     liste_resultats = lignes.strip().split('\\n')  # Divise le texte en lignes\n",
        "     liste_resultats = []\n",
        "\n",
        "  for ligne in lignes:\n",
        "        valeurs = ligne.split(',')\n",
        "        liste_resultats.append(valeurs)\n",
        "\n",
        "  return liste_resultats\n",
        "\n",
        "def liste_en_dictionnaires(liste):\n",
        "    entetes = liste[0]  # La première ligne contient les en-têtes\n",
        "    resultats = []\n",
        "\n",
        "    for valeurs in liste[1:]:\n",
        "        dictionnaire = {}\n",
        "        for i, entete in enumerate(entetes):\n",
        "            dictionnaire[entete] = valeurs[i]\n",
        "        resultats.append(dictionnaire)\n",
        "\n",
        "    return resultats\n",
        "\n",
        "\n"
      ],
      "metadata": {
        "id": "JWgOulIcwORs"
      },
      "execution_count": 195,
      "outputs": []
    },
    {
      "cell_type": "code",
      "source": [
        "def read_csv(file):\n",
        "  \"\"\"Open a csv file and return a dictionry of its enties.\n",
        "\n",
        "  Parameters:\n",
        "  file: Path of the csv like file (target file must be a \".txt\" file)\"\"\"\n",
        "\n",
        "  # Opening and reading the file\n",
        "  # with open(file, 'r') as data:\n",
        "  with open(file) as data:\n",
        "    data = data.readlines()\n",
        "\n",
        "  # Data extraction - First step\n",
        "  keys = data[0].strip().split(',')\n",
        "  template = {i: None for i in keys[1:]}\n",
        "\n",
        "  # Data extraction final step\n",
        "  result = {}\n",
        "  for entry in data[1:]:\n",
        "    dic = template.copy()\n",
        "    field = entry.strip().split(',')\n",
        "    MainKey = field[0]\n",
        "    for key, value in zip(keys[1:], field[1:]):\n",
        "      dic[key] = None if value == '' else value\n",
        "    result[MainKey] = dic\n",
        "\n",
        "  # Output\n",
        "  return result\n",
        "\n",
        "def item(data, key):\n",
        "  \"\"\"Returns a list of values corresponding to the given key.\n",
        "\n",
        "  Parameters:\n",
        "  data: A dictionary of dictionaries here to find the specified key.\n",
        "       In other words data should be like {'key1': {'key1.1': A, }} etc...\n",
        "  key: The key to be found in each sub dictionnary\"\"\"\n",
        "\n",
        "  # Core of the code\n",
        "  # Option 1\n",
        "  values = []\n",
        "  for entry in data:\n",
        "    try:\n",
        "      values.append(data[entry][key])\n",
        "    except:\n",
        "      pass\n",
        "\n",
        "  # Option 2\n",
        "  #alternative =  [data[entry][key] for entry in data if key in data[entry][key]]\n",
        "  # Output\n",
        "  return set(values)"
      ],
      "metadata": {
        "id": "NZ7d5KCA2-aB"
      },
      "execution_count": null,
      "outputs": []
    },
    {
      "cell_type": "code",
      "source": [
        "class locataire_entity:\n",
        "    def __init__(self, qualite):\n",
        "        self.qualite = qualite\n",
        "        self.libelle = ''\n",
        "\n",
        "    def set_libelle(self, label):\n",
        "        self.libelle = label"
      ],
      "metadata": {
        "id": "zY56NCss-r8n"
      },
      "execution_count": 204,
      "outputs": []
    },
    {
      "cell_type": "code",
      "source": [
        "e1=locataire_entity(\"personne_morale\")\n",
        "e1.set_libelle"
      ],
      "metadata": {
        "colab": {
          "base_uri": "https://localhost:8080/"
        },
        "id": "WfwDZfQp_WNy",
        "outputId": "54a67da2-bb10-4f1c-9152-1da18e0dd810"
      },
      "execution_count": 205,
      "outputs": [
        {
          "output_type": "execute_result",
          "data": {
            "text/plain": [
              "<bound method locataire_entity.set_libelle of <__main__.locataire_entity object at 0x79aaaac20130>>"
            ]
          },
          "metadata": {},
          "execution_count": 205
        }
      ]
    }
  ]
}