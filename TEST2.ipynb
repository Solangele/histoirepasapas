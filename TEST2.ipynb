{
  "nbformat": 4,
  "nbformat_minor": 0,
  "metadata": {
    "colab": {
      "provenance": [],
      "authorship_tag": "ABX9TyPS/Ph4E4rARWbZRoReaa0n",
      "include_colab_link": true
    },
    "kernelspec": {
      "name": "python3",
      "display_name": "Python 3"
    },
    "language_info": {
      "name": "python"
    }
  },
  "cells": [
    {
      "cell_type": "markdown",
      "metadata": {
        "id": "view-in-github",
        "colab_type": "text"
      },
      "source": [
        "<a href=\"https://colab.research.google.com/github/Solangele/histoirepasapas/blob/main/TEST2.ipynb\" target=\"_parent\"><img src=\"https://colab.research.google.com/assets/colab-badge.svg\" alt=\"Open In Colab\"/></a>"
      ]
    },
    {
      "cell_type": "code",
      "execution_count": null,
      "metadata": {
        "id": "MPJZ08w6JhBO"
      },
      "outputs": [],
      "source": []
    },
    {
      "cell_type": "markdown",
      "source": [
        "# Python bases"
      ],
      "metadata": {
        "id": "Pu_23q1eLDWB"
      }
    },
    {
      "cell_type": "code",
      "source": [
        "#Programme pour multiplier deux nombre\n",
        "x=input(\"entrez un nombre entier :\")\n",
        "x=int(x)\n",
        "y=input(\"entrer un deuxième nombre : \")\n",
        "y=int(y)\n",
        "print(\"x * y égal {}\".format(x*y))"
      ],
      "metadata": {
        "colab": {
          "base_uri": "https://localhost:8080/"
        },
        "id": "iC_zTCxJycON",
        "outputId": "06acef0e-03dd-4b51-a570-520b8ea9e0f2"
      },
      "execution_count": null,
      "outputs": [
        {
          "output_type": "stream",
          "name": "stdout",
          "text": [
            "entrez un nombre entier :4\n",
            "entrer un deuxième nombre : 3\n",
            "x * y égal 12\n"
          ]
        }
      ]
    },
    {
      "cell_type": "markdown",
      "source": [
        "##Fonction"
      ],
      "metadata": {
        "id": "5CdgfS1tLTyH"
      }
    },
    {
      "cell_type": "code",
      "source": [
        "v1=13\n",
        "REF1=14\n",
        "def somme(i_a,i_b):\n",
        "  '''\n",
        "  INPUT:\n",
        "  OUTPUT:\n",
        "  '''\n",
        "  l_s = i_a+i_b\n",
        "  if l_s>REF1:\n",
        "   return l_s\n",
        "  else:\n",
        "   return l_s+v1\n",
        "somme(14,17)\n",
        "\n",
        "\n"
      ],
      "metadata": {
        "colab": {
          "base_uri": "https://localhost:8080/"
        },
        "id": "pQiFcO3kLNMG",
        "outputId": "c9d2d85a-8c88-4b6c-98e6-ca213a12ae16"
      },
      "execution_count": null,
      "outputs": [
        {
          "output_type": "execute_result",
          "data": {
            "text/plain": [
              "31"
            ]
          },
          "metadata": {},
          "execution_count": 11
        }
      ]
    },
    {
      "cell_type": "code",
      "source": [
        "12//5\n",
        "\n"
      ],
      "metadata": {
        "colab": {
          "base_uri": "https://localhost:8080/"
        },
        "id": "0E1JRMkKjk9E",
        "outputId": "e218a974-9a0e-4633-c73e-394b39585963"
      },
      "execution_count": null,
      "outputs": [
        {
          "output_type": "execute_result",
          "data": {
            "text/plain": [
              "2"
            ]
          },
          "metadata": {},
          "execution_count": 15
        }
      ]
    },
    {
      "cell_type": "code",
      "source": [
        "12/5\n"
      ],
      "metadata": {
        "colab": {
          "base_uri": "https://localhost:8080/"
        },
        "id": "MOhJ-raLkYTo",
        "outputId": "980e9f73-e21e-47d0-c432-7d91765e817c"
      },
      "execution_count": null,
      "outputs": [
        {
          "output_type": "execute_result",
          "data": {
            "text/plain": [
              "2.4"
            ]
          },
          "metadata": {},
          "execution_count": 16
        }
      ]
    },
    {
      "cell_type": "code",
      "source": [
        "from re import A\n",
        "#Vérifier la divisibilité de b par a\n",
        "'''\n",
        "les inputs: a et b\n",
        "les outputs: result\n",
        "'''\n",
        "def is_divider(a,b):\n",
        "  result=b/a\n",
        "# Try/Except pour lever les exceptions\n",
        "  try:\n",
        "    if a==0:\n",
        "     result=False\n",
        "    elif result == b//a:\n",
        "     result = True\n",
        "    else:\n",
        "     result=False\n",
        "    return result\n",
        "  except ValueError:\n",
        "     print(\"La saisie est incorrecte\")"
      ],
      "metadata": {
        "id": "aBtISOshuNLQ"
      },
      "execution_count": null,
      "outputs": []
    },
    {
      "cell_type": "code",
      "source": [
        "is_divider(5,12)"
      ],
      "metadata": {
        "colab": {
          "base_uri": "https://localhost:8080/"
        },
        "id": "ONn19Ok1m_2w",
        "outputId": "388ada25-4612-4cab-e4e3-392fd93628f7"
      },
      "execution_count": null,
      "outputs": [
        {
          "output_type": "execute_result",
          "data": {
            "text/plain": [
              "False"
            ]
          },
          "metadata": {},
          "execution_count": 89
        }
      ]
    },
    {
      "cell_type": "code",
      "source": [],
      "metadata": {
        "id": "4IVQ1Xq7t0gD"
      },
      "execution_count": null,
      "outputs": []
    },
    {
      "cell_type": "code",
      "source": [
        "#Divisibilité d'un nombre = code Bouchaib\n",
        "def is_divisor(num,divisor):\n",
        "    try:\n",
        "        if divisor == 0:\n",
        "            print(\"la division n'est pas possible\")\n",
        "            return False\n",
        "\n",
        "        if num % divisor == 0:\n",
        "            return True\n",
        "        else:\n",
        "            return False\n",
        "    except ValueError:\n",
        "        print(\"Invalid input. Please enter valid integers for both numbers.\")"
      ],
      "metadata": {
        "id": "gqweF_NjpVN0"
      },
      "execution_count": null,
      "outputs": []
    },
    {
      "cell_type": "code",
      "source": [
        "is_divisor(12,3)"
      ],
      "metadata": {
        "colab": {
          "base_uri": "https://localhost:8080/"
        },
        "id": "LrpbHgdHqpEF",
        "outputId": "6bc00a76-d280-437a-c92e-5de79473fefd"
      },
      "execution_count": null,
      "outputs": [
        {
          "output_type": "execute_result",
          "data": {
            "text/plain": [
              "True"
            ]
          },
          "metadata": {},
          "execution_count": 56
        }
      ]
    },
    {
      "cell_type": "code",
      "source": [
        "for i in range (0,15,2):\n",
        "  print(i)"
      ],
      "metadata": {
        "colab": {
          "base_uri": "https://localhost:8080/"
        },
        "id": "QTr2cyqkyC3y",
        "outputId": "8c275d81-c1c7-4f73-bf6a-6588ec80d7c3"
      },
      "execution_count": null,
      "outputs": [
        {
          "output_type": "stream",
          "name": "stdout",
          "text": [
            "0\n",
            "2\n",
            "4\n",
            "6\n",
            "8\n",
            "10\n",
            "12\n",
            "14\n"
          ]
        }
      ]
    },
    {
      "cell_type": "code",
      "source": [
        "##set est une fonction qui rend une liste avec des élements uniques\n",
        "l={1,2,3,4,5,5}\n",
        "x=set(l)\n",
        "l1=list(x)\n",
        "print(x)\n"
      ],
      "metadata": {
        "colab": {
          "base_uri": "https://localhost:8080/"
        },
        "id": "j-LhYFQUzKkR",
        "outputId": "99425b5d-ac54-4fc3-9eea-4160bb8bfb1c"
      },
      "execution_count": null,
      "outputs": [
        {
          "output_type": "stream",
          "name": "stdout",
          "text": [
            "{1, 2, 3, 4, 5}\n"
          ]
        }
      ]
    },
    {
      "cell_type": "code",
      "source": [
        "def trouver_diviseurs(nombre):\n",
        "    diviseurs = set()\n",
        "    for i in range(1, nombre + 1):\n",
        "        if nombre % i == 0:\n",
        "            diviseurs.add(i)\n",
        "    return diviseurs\n",
        "    try:\n",
        "    nombre_choisi = int(input(\"choisir un nombre \"))"
      ],
      "metadata": {
        "colab": {
          "base_uri": "https://localhost:8080/",
          "height": 140
        },
        "id": "dKxZd0WSHapX",
        "outputId": "9596cce8-fe9a-402e-ea3f-4c7b947231b2"
      },
      "execution_count": null,
      "outputs": [
        {
          "output_type": "error",
          "ename": "IndentationError",
          "evalue": "ignored",
          "traceback": [
            "\u001b[0;36m  File \u001b[0;32m\"<ipython-input-4-a31738bef306>\"\u001b[0;36m, line \u001b[0;32m8\u001b[0m\n\u001b[0;31m    nombre_choisi = int(input(\"choisir un nombre \"))\u001b[0m\n\u001b[0m    ^\u001b[0m\n\u001b[0;31mIndentationError\u001b[0m\u001b[0;31m:\u001b[0m expected an indented block after 'try' statement on line 7\n"
          ]
        }
      ]
    },
    {
      "cell_type": "code",
      "source": [
        "diviseurs =trouver_diviseurs(12)"
      ],
      "metadata": {
        "colab": {
          "base_uri": "https://localhost:8080/",
          "height": 175
        },
        "id": "UTf7DmpyIJJu",
        "outputId": "7929d61e-a09d-4d4a-a048-d26659d485b3"
      },
      "execution_count": null,
      "outputs": [
        {
          "output_type": "error",
          "ename": "NameError",
          "evalue": "ignored",
          "traceback": [
            "\u001b[0;31m---------------------------------------------------------------------------\u001b[0m",
            "\u001b[0;31mNameError\u001b[0m                                 Traceback (most recent call last)",
            "\u001b[0;32m<ipython-input-3-c481b71c3997>\u001b[0m in \u001b[0;36m<cell line: 1>\u001b[0;34m()\u001b[0m\n\u001b[0;32m----> 1\u001b[0;31m \u001b[0mdiviseurs\u001b[0m \u001b[0;34m=\u001b[0m \u001b[0mtrouver_diviseurs\u001b[0m\u001b[0;34m(\u001b[0m\u001b[0;36m12\u001b[0m\u001b[0;34m)\u001b[0m\u001b[0;34m\u001b[0m\u001b[0;34m\u001b[0m\u001b[0m\n\u001b[0m",
            "\u001b[0;31mNameError\u001b[0m: name 'trouver_diviseurs' is not defined"
          ]
        }
      ]
    },
    {
      "cell_type": "code",
      "source": [
        "def diviseur(n):\n",
        "  # definir l'ensemble ens_divideur\n",
        "  ens_diviseur=set()\n",
        "  for i in range(1, n+1):\n",
        "    if n%i==0:\n",
        "      ens_diviseur.add(i)\n",
        "    else:\n",
        "      ens_diviseur\n",
        "  return ens_diviseur"
      ],
      "metadata": {
        "id": "yKe3HKvWIzb-"
      },
      "execution_count": null,
      "outputs": []
    },
    {
      "cell_type": "code",
      "source": [
        "# Exercice 1\n",
        "annee = int(input(\"Entrez une année : \"))\n",
        "if annee % 4 == 0:\n",
        "   print(\"l'année {} est divisible par 4\".format(annee))\n",
        "else:\n",
        "   print(\"l'année {} n'est pas divisible par 4\".format(annee))\n"
      ],
      "metadata": {
        "colab": {
          "base_uri": "https://localhost:8080/"
        },
        "id": "N9FEUETQK8nO",
        "outputId": "097d3dd2-c116-4967-d919-10a7b7292e06"
      },
      "execution_count": null,
      "outputs": [
        {
          "output_type": "stream",
          "name": "stdout",
          "text": [
            "Entrez une année : 2024\n",
            "l'année 2024 est divisible par 4\n"
          ]
        }
      ]
    },
    {
      "cell_type": "code",
      "source": [
        "# Exercice 2\n",
        "annee = int(input(\"Entrez une année : \"))\n",
        "\n",
        "# Vérifieer si l'année est bissextile\n",
        "if (annee % 4 == 0 and annee % 100 != 0) or (annee % 400 == 0):\n",
        "    print(\"L'année {} est bissextile.\".format(annee))\n",
        "else:\n",
        "       print(\"L'année {} n'est pas bissextile.\".format(annee))"
      ],
      "metadata": {
        "colab": {
          "base_uri": "https://localhost:8080/"
        },
        "id": "U2282J_LLqCZ",
        "outputId": "db0b6c14-8b8f-4a5c-a1c4-3948ac91b7de"
      },
      "execution_count": null,
      "outputs": [
        {
          "output_type": "stream",
          "name": "stdout",
          "text": [
            "Entrez une année : 2023\n",
            "L'année 2023 n'est pas bissextile.\n"
          ]
        }
      ]
    },
    {
      "cell_type": "code",
      "source": [
        "\"c'est une fonction qui mélange les élements d'une listes\"\n",
        "import random\n",
        "l={1,2,3,4,5,5}\n",
        "x=set(l)\n",
        "l1=list(x)\n",
        "random.shuffle(l1)\n",
        "print(l1)"
      ],
      "metadata": {
        "colab": {
          "base_uri": "https://localhost:8080/"
        },
        "id": "jFnqfmuGNjH-",
        "outputId": "42767eac-59ce-4c23-9a4c-d664070c7f74"
      },
      "execution_count": null,
      "outputs": [
        {
          "output_type": "stream",
          "name": "stdout",
          "text": [
            "[5, 2, 4, 1, 3]\n"
          ]
        }
      ]
    },
    {
      "cell_type": "code",
      "source": [
        "#Regarder les listes, les ensembles, les dictionnaires,......\n",
        "#Regarder les foction random.shuffle, random.sample, random......."
      ],
      "metadata": {
        "id": "NcNawDgtPXYH"
      },
      "execution_count": null,
      "outputs": []
    },
    {
      "cell_type": "code",
      "source": [
        "## présenter d'une manière aléatoire la liste\n",
        "new_list=[5, 7, 8, 9, 10]\n",
        "random.shuffle(new_list)\n",
        "print(new_list)"
      ],
      "metadata": {
        "colab": {
          "base_uri": "https://localhost:8080/"
        },
        "id": "Y6F7VxX6QW2x",
        "outputId": "ceea9593-8385-4613-dbe8-ecbd1f038263"
      },
      "execution_count": null,
      "outputs": [
        {
          "output_type": "stream",
          "name": "stdout",
          "text": [
            "[7, 5, 9, 8, 10]\n"
          ]
        }
      ]
    },
    {
      "cell_type": "code",
      "source": [
        "## présenter d'une manière aléatoire la liste\n",
        "new_list=[5, 7, 8, 9, 10]\n",
        "new_list.sort(reverse=True)\n",
        "print(\"Sorted List (Descending):\", new_list)"
      ],
      "metadata": {
        "colab": {
          "base_uri": "https://localhost:8080/"
        },
        "outputId": "16e86eac-b583-4d01-c125-4899dd7fdab5",
        "id": "P_M0PkN-RMnO"
      },
      "execution_count": null,
      "outputs": [
        {
          "output_type": "stream",
          "name": "stdout",
          "text": [
            "Sorted List (Descending): [10, 9, 8, 7, 5]\n"
          ]
        }
      ]
    },
    {
      "cell_type": "code",
      "source": [
        "##somme de deux listes\n",
        "list1=[1,2,3,4,5,6]\n",
        "list2=[6,5,4,3,2,1]\n",
        "list=list1+list2\n",
        "print(list)"
      ],
      "metadata": {
        "colab": {
          "base_uri": "https://localhost:8080/"
        },
        "id": "v7wxEMd9Rs2X",
        "outputId": "4a64724c-d4d3-47bc-dba7-108bb8717d06"
      },
      "execution_count": null,
      "outputs": [
        {
          "output_type": "stream",
          "name": "stdout",
          "text": [
            "[1, 2, 3, 4, 5, 6, 6, 5, 4, 3, 2, 1]\n"
          ]
        }
      ]
    },
    {
      "cell_type": "code",
      "source": [
        "my_list = [1, 2, 3, 4, 5]\n",
        "\n",
        "#Multiply every element by 2 using a list comprehension: boucle à l'intérieur de la liste\n",
        "result_list = [x * 2 for x in my_list]\n",
        "\n",
        "#Print the resulting list\n",
        "print(\"Result List (Using List Comprehension):\", result_list)"
      ],
      "metadata": {
        "colab": {
          "base_uri": "https://localhost:8080/"
        },
        "id": "iSlbVY3qS4DE",
        "outputId": "b1e3ef9d-bb74-48f4-e0ee-43dc2c0e1d15"
      },
      "execution_count": null,
      "outputs": [
        {
          "output_type": "stream",
          "name": "stdout",
          "text": [
            "Result List (Using List Comprehension): [2, 4, 6, 8, 10]\n"
          ]
        }
      ]
    },
    {
      "cell_type": "code",
      "source": [
        "\n",
        "new_list=[5, 7, 8, 9, 10]\n",
        "list=2*my_list\n",
        "print( \"la nouvelle liste est :\",list)"
      ],
      "metadata": {
        "colab": {
          "base_uri": "https://localhost:8080/"
        },
        "id": "dUozAYMTTKqR",
        "outputId": "845b30d2-4226-46e5-d413-acb2d773b7c5"
      },
      "execution_count": null,
      "outputs": [
        {
          "output_type": "stream",
          "name": "stdout",
          "text": [
            "la nouvelle liste est : [1, 2, 3, 4, 5, 1, 2, 3, 4, 5]\n"
          ]
        }
      ]
    },
    {
      "cell_type": "markdown",
      "source": [
        "**Boucles **"
      ],
      "metadata": {
        "id": "SXD0v-4wUnWd"
      }
    },
    {
      "cell_type": "code",
      "source": [
        " #\n",
        " ch = input(\"Entrez un nombre : \")\n",
        " x = int(ch)\n",
        " i = 0\n",
        " while i < x:\n",
        "      print(i)\n",
        "      i +=1"
      ],
      "metadata": {
        "colab": {
          "base_uri": "https://localhost:8080/"
        },
        "id": "dRGBxM9fUsen",
        "outputId": "713402ed-54e6-436a-c898-1561feff907c"
      },
      "execution_count": null,
      "outputs": [
        {
          "output_type": "stream",
          "name": "stdout",
          "text": [
            "Entrez un nombre : 6\n",
            "0\n",
            "1\n",
            "2\n",
            "3\n",
            "4\n",
            "5\n"
          ]
        }
      ]
    },
    {
      "cell_type": "code",
      "source": [
        "#Boucler jusqu’à ce que l’utilisateur veuille quitter\n",
        "quitter=\"non\"\n",
        "while quitter==\"non\":\n",
        "      quitter = input(\"voulez vous quitter: \")"
      ],
      "metadata": {
        "colab": {
          "base_uri": "https://localhost:8080/"
        },
        "id": "a332IGO3Wtz3",
        "outputId": "a2f34ed9-6946-4b3a-c738-e06f3ee81b1b"
      },
      "execution_count": null,
      "outputs": [
        {
          "name": "stdout",
          "output_type": "stream",
          "text": [
            "voulez vous quitter: non\n",
            "voulez vous quitter: non\n",
            "voulez vous quitter: oui\n"
          ]
        }
      ]
    },
    {
      "cell_type": "code",
      "source": [
        "#Boucler jusqu'à ce que le jeu soit terminé\n",
        "terminer = False\n",
        "while not terminer:\n",
        "    quitter = input(\"Voulez -vous quitter ? \")\n",
        "    if quitter == \"oui\":\n",
        "       terminer = True\n",
        "    else:\n",
        "       att = input(\"Voulez -vous attaquer le dragon ? \")\n",
        "       if att == \"oui\":\n",
        "          print(\"Mauvais choix , vous êtes mort !\")\n",
        "          terminer = True\n"
      ],
      "metadata": {
        "colab": {
          "base_uri": "https://localhost:8080/"
        },
        "id": "-sblU49AXdp2",
        "outputId": "2c29e2a9-0719-4cb7-a7ac-630e6b927490"
      },
      "execution_count": null,
      "outputs": [
        {
          "output_type": "stream",
          "name": "stdout",
          "text": [
            "Voulez -vous quitter ? non\n",
            "Voulez -vous attaquer le dragon ? non\n",
            "Voulez -vous quitter ? non\n",
            "Voulez -vous attaquer le dragon ? oui\n",
            "Mauvais choix , vous êtes mort !\n"
          ]
        }
      ]
    },
    {
      "cell_type": "code",
      "source": [
        "#Programme pour inverser une phrase:\n",
        "def phrase_a_lenvers(phrase):\n",
        "    mots = phrase.split()\n",
        "    phrase_inverse =\" \".join(mots[::-1])\n",
        "    return phrase_inverse\n",
        "\n",
        "# Demander à l'utilisateur d'entrer une phrase\n",
        "\n",
        "phrase_origine=input(\"Entrez une phrase : \")\n",
        "\n",
        "# Appeller la fonction pour inverser la phrase\n",
        "resultat = phrase_a_lenvers(phrase_origine)\n",
        "\n",
        "# Affiche la phrase inversée\n",
        "print(\"Phrase à l'envers :\", resultat)\n",
        "\n"
      ],
      "metadata": {
        "colab": {
          "base_uri": "https://localhost:8080/"
        },
        "id": "rgeJwZ0QkCTo",
        "outputId": "2362a942-b552-4213-a90a-b09518956e07"
      },
      "execution_count": null,
      "outputs": [
        {
          "output_type": "stream",
          "name": "stdout",
          "text": [
            "Entrez une phrase : Je suis belle \n",
            "Phrase à l'envers : belle suis Je\n"
          ]
        }
      ]
    },
    {
      "cell_type": "code",
      "source": [
        "def somme(*args):\n",
        "    total = 0\n",
        "    for nombre in args:\n",
        "        total += nombre\n",
        "    return total"
      ],
      "metadata": {
        "id": "WOcc3B_GmnGK"
      },
      "execution_count": null,
      "outputs": []
    },
    {
      "cell_type": "code",
      "source": [
        "somme(1,2,3,4,5,6)"
      ],
      "metadata": {
        "colab": {
          "base_uri": "https://localhost:8080/"
        },
        "id": "5PltX8tFm4K0",
        "outputId": "ef8ebfb9-f5d0-48cc-b81a-ec0acd4eff65"
      },
      "execution_count": null,
      "outputs": [
        {
          "output_type": "execute_result",
          "data": {
            "text/plain": [
              "21"
            ]
          },
          "metadata": {},
          "execution_count": 68
        }
      ]
    },
    {
      "cell_type": "code",
      "source": [
        "#Define the somme function that calculates the sum of a variable number of arguments.\n",
        "def somme(args):\n",
        "    # Initialize a variable to store the sum.\n",
        "    total = 0\n",
        "\n",
        "#Iterate through the arguments using a for loop.\n",
        "    for nombre in args:\n",
        "        # Add each argument to the total.\n",
        "        total += nombre\n",
        "\n",
        "#Return the total sum as the result of the function.\n",
        "    return total\n",
        "\n",
        "\n",
        "#Get user input for the arguments\n",
        "user_input = input(\"Enter a list of numbers separated by spaces: \")\n",
        "\n",
        "#Split the user input into individual numbers\n",
        "user_args = [int(x) for x in user_input.split()]\n",
        "\n",
        "#Call the somme function with the user's arguments\n",
        "result = somme(user_args)\n",
        "\n",
        "#Print the result\n",
        "print(\"The sum is:\", result)"
      ],
      "metadata": {
        "colab": {
          "base_uri": "https://localhost:8080/"
        },
        "id": "qgxVTYz9omuW",
        "outputId": "32cffd32-5b6c-411c-be25-489b7aa82552"
      },
      "execution_count": null,
      "outputs": [
        {
          "output_type": "stream",
          "name": "stdout",
          "text": [
            "Enter a list of numbers separated by spaces: 2 3 4 5 6 7 9 \n",
            "The sum is: 36\n"
          ]
        }
      ]
    },
    {
      "cell_type": "code",
      "source": [
        "str_1=\"hello\"\n",
        "def revname(str_1):\n",
        "  my_lis=[]\n",
        "  for i in str_1:\n",
        "    my_lis.append(i)\n",
        "    my_lis.sort(reverse=True)\n",
        "  return my_lis\n",
        "\n",
        "print(revname(\"hello\"))"
      ],
      "metadata": {
        "colab": {
          "base_uri": "https://localhost:8080/"
        },
        "id": "rPSW_C9jqy1g",
        "outputId": "9875aa98-5eb4-462e-d746-54940643958a"
      },
      "execution_count": null,
      "outputs": [
        {
          "output_type": "stream",
          "name": "stdout",
          "text": [
            "['o', 'l', 'l', 'h', 'e']\n"
          ]
        }
      ]
    },
    {
      "cell_type": "markdown",
      "source": [
        "**Les Dictionnaires**"
      ],
      "metadata": {
        "id": "DVWC5tClsRnD"
      }
    },
    {
      "cell_type": "code",
      "source": [
        "d = {}#créer un dictionnaire vide\n",
        "#ajouter une entrée dans le dictionnaire dont la clé\n",
        "#nom et la valeur est mhadhbi\n",
        "#dans un dictinnaire les clés sont uniques\n",
        "d[\"nom\"] =\"Jean\"\n",
        "d[\"age\"]= 32\n",
        "d[\"age\"] = 29\n",
        "d[1] = 10\n",
        "#print(d)\n",
        "#afficher le nom dans le dictionnaire\n",
        "print(d[\"age\"])\n",
        "#afficher les clés dans une liste\n",
        "print(d.keys())\n",
        "#vérifier si une clé est dans le dictionnaire\n",
        "if(\"age\" in d):\n",
        "    print(\"la clé age existe\")\n",
        "else:\n",
        "    print(\"n\\'existe pas\")\n",
        "#afficher les valeurs\n",
        "print(d.values())\n",
        "#afficher les valeurs dans une liste\n",
        "print(d.values())"
      ],
      "metadata": {
        "colab": {
          "base_uri": "https://localhost:8080/"
        },
        "id": "384Pq7rKsZyZ",
        "outputId": "67b15c28-ee9f-4ffb-afed-b9002e9275af"
      },
      "execution_count": null,
      "outputs": [
        {
          "output_type": "stream",
          "name": "stdout",
          "text": [
            "29\n",
            "dict_keys(['nom', 'age', 1])\n",
            "la clé age existe\n",
            "dict_values(['Jean', 29, 10])\n",
            "dict_values(['Jean', 29, 10])\n"
          ]
        }
      ]
    },
    {
      "cell_type": "code",
      "source": [
        "S"
      ],
      "metadata": {
        "id": "NbAFWN5tx24L"
      },
      "execution_count": null,
      "outputs": []
    },
    {
      "cell_type": "code",
      "source": [
        "#Créer des filtres pour trouver des élements dans une liste de dictionnaires:Methode 1\n",
        "etudiants = [\n",
        "    {\"name\": \"Doe\", \"first_name\": \"John\", \"ville\": \"Paris\"},\n",
        "    {\"name\": \"Smith\", \"first_name\": \"Jane\", \"ville\": 'Lille'},\n",
        "    {\"name\": \"Brown\", \"first_name\": 'David', 'ville': 'Rennes'},\n",
        "    {\"name\": \"Martin\", \"first_name\": 'John', 'ville': 'Paris'},\n",
        "    {\"name\": \"Wilso\", \"first_name\": 'Sophia', 'ville': 'Paris'},\n",
        "    {\"name\": \"Garcia\", \"first_name\": 'Liam', 'ville': 'Lille'},\n",
        "    {\"name\": \"Lee\", \"first_name\": 'John', 'ville': 'Rennes'},\n",
        "    {\"name\": \"Taylor\", \"first_name\": 'Lucas', 'ville': 'Paris'},\n",
        "    {\"name\": \"Anderson\", \"first_name\": 'Mia', 'ville': 'Lille'},\n",
        "    {\"name\": \"Harris\",\"first_name\": 'Noah', 'ville': 'Paris'}\n",
        "]\n",
        "etudiants_paris_john = [etudiant for etudiant in etudiants if etudiant['ville'] == 'Paris' and etudiant['first_name'] == 'John']\n",
        "for etudiant in etudiants_paris_john:\n",
        "    print(f\"{etudiant['first_name']} {etudiant['name']} habite à Paris.\")"
      ],
      "metadata": {
        "colab": {
          "base_uri": "https://localhost:8080/"
        },
        "id": "9rfGiwpdw6Fk",
        "outputId": "9a7565d9-835d-4409-ad12-5d72ab5ae8ac"
      },
      "execution_count": null,
      "outputs": [
        {
          "output_type": "stream",
          "name": "stdout",
          "text": [
            "John Doe habite à Paris.\n",
            "John Martin habite à Paris.\n"
          ]
        }
      ]
    },
    {
      "cell_type": "code",
      "source": [
        "etudiants = [\n",
        "    {\"name\": \"Doe\", \"first_name\": \"John\", \"ville\": \"Paris\"},\n",
        "    {\"name\": \"Smith\", \"first_name\": \"Jane\", \"ville\": 'Lille'},\n",
        "    {\"name\": \"Brown\", \"first_name\": 'David', 'ville': 'Rennes'},\n",
        "    {\"name\": \"Martin\", \"first_name\": 'John', 'ville': 'Paris'},\n",
        "    {\"name\": \"Wilso\", \"first_name\": 'Sophia', 'ville': 'Paris'},\n",
        "    {\"name\": \"Garcia\", \"first_name\": 'Liam', 'ville': 'Lille'},\n",
        "    {\"name\": \"Lee\", \"first_name\": 'John', 'ville': 'Rennes'},\n",
        "    {\"name\": \"Taylor\", \"first_name\": 'Lucas', 'ville': 'Paris'},\n",
        "    {\"name\": \"Anderson\", \"first_name\": 'Mia', 'ville': 'Lille'},\n",
        "    {\"name\": \"Harris\",\"first_name\": 'Noah', 'ville': 'Paris'}\n",
        "]\n",
        "def trouver_elements(key1,key2)"
      ],
      "metadata": {
        "id": "MqTMi6uYwz3p"
      },
      "execution_count": null,
      "outputs": []
    },
    {
      "cell_type": "code",
      "source": [
        "#Créer des filtres pour trouver des élements dans une liste de dictionnaires:Methode 2\n",
        "\n",
        "#Création de la fonction\n",
        "'''\n",
        "inputs:liste des dictionnaires contenant les informations des étudiants\n",
        "outputs: liste des étudiants répondant au filtrage\n",
        "'''\n",
        "def trouver_element(first_name:str,city:str)->list:\n",
        "#création du filtre de recherche\n",
        "    element_cherche=[etudiant for etudiant in etudiants if etudiant['first_name']==first_name and etudiant['ville']==city]\n",
        "    return element_cherche\n"
      ],
      "metadata": {
        "id": "Y0EXkqw2WCuf"
      },
      "execution_count": null,
      "outputs": []
    },
    {
      "cell_type": "code",
      "source": [
        "trouver_element('John','Paris')"
      ],
      "metadata": {
        "colab": {
          "base_uri": "https://localhost:8080/"
        },
        "id": "pjCbucDVf0JS",
        "outputId": "39e03e3c-da99-46a6-e4e0-10cc8d68ebaa"
      },
      "execution_count": null,
      "outputs": [
        {
          "output_type": "execute_result",
          "data": {
            "text/plain": [
              "[{'name': 'Doe', 'first_name': 'John', 'ville': 'Paris'},\n",
              " {'name': 'Martin', 'first_name': 'John', 'ville': 'Paris'}]"
            ]
          },
          "metadata": {},
          "execution_count": 82
        }
      ]
    },
    {
      "cell_type": "code",
      "source": [
        "def filter_student(param1, param2, val1, val2):\n",
        "  # creation liste pour filtrer les etudiants selon les paramètres choisis\n",
        "  # input : liste des etudiants, paramètres de filtrage\n",
        "  # output : liste des étudiants recherchés\n",
        "  list_student = [etudiant for etudiant in etudiants if etudiant[param1]==val1 and etudiant[param2]==val2]\n",
        "  return list_student\n"
      ],
      "metadata": {
        "id": "SUJWw7ichZNb"
      },
      "execution_count": null,
      "outputs": []
    },
    {
      "cell_type": "code",
      "source": [
        "filter_student('first_name','John','Paris')"
      ],
      "metadata": {
        "colab": {
          "base_uri": "https://localhost:8080/",
          "height": 279
        },
        "id": "jhLf3zw7hgJK",
        "outputId": "4240b40b-b2d3-45e1-b4a5-1a171975af22"
      },
      "execution_count": null,
      "outputs": [
        {
          "output_type": "error",
          "ename": "TypeError",
          "evalue": "ignored",
          "traceback": [
            "\u001b[0;31m---------------------------------------------------------------------------\u001b[0m",
            "\u001b[0;31mTypeError\u001b[0m                                 Traceback (most recent call last)",
            "\u001b[0;32m<ipython-input-70-0143d10dae58>\u001b[0m in \u001b[0;36m<cell line: 1>\u001b[0;34m()\u001b[0m\n\u001b[0;32m----> 1\u001b[0;31m \u001b[0mfilter_student\u001b[0m\u001b[0;34m(\u001b[0m\u001b[0metudiants\u001b[0m\u001b[0;34m,\u001b[0m\u001b[0;34m'first_name'\u001b[0m\u001b[0;34m,\u001b[0m\u001b[0;34m'John'\u001b[0m\u001b[0;34m,\u001b[0m\u001b[0;34m'Paris'\u001b[0m\u001b[0;34m)\u001b[0m\u001b[0;34m\u001b[0m\u001b[0;34m\u001b[0m\u001b[0m\n\u001b[0m",
            "\u001b[0;32m<ipython-input-27-07a44deb7b35>\u001b[0m in \u001b[0;36mfilter_student\u001b[0;34m(param1, param2, val1, val2)\u001b[0m\n\u001b[1;32m      3\u001b[0m   \u001b[0;31m# input : liste des etudiants, paramètres de filtrage\u001b[0m\u001b[0;34m\u001b[0m\u001b[0;34m\u001b[0m\u001b[0m\n\u001b[1;32m      4\u001b[0m   \u001b[0;31m# output : liste des étudiants recherchés\u001b[0m\u001b[0;34m\u001b[0m\u001b[0;34m\u001b[0m\u001b[0m\n\u001b[0;32m----> 5\u001b[0;31m   \u001b[0mlist_student\u001b[0m \u001b[0;34m=\u001b[0m \u001b[0;34m[\u001b[0m\u001b[0metudiant\u001b[0m \u001b[0;32mfor\u001b[0m \u001b[0metudiant\u001b[0m \u001b[0;32min\u001b[0m \u001b[0metudiants\u001b[0m \u001b[0;32mif\u001b[0m \u001b[0metudiant\u001b[0m\u001b[0;34m[\u001b[0m\u001b[0mparam1\u001b[0m\u001b[0;34m]\u001b[0m\u001b[0;34m==\u001b[0m\u001b[0mval1\u001b[0m \u001b[0;32mand\u001b[0m \u001b[0metudiant\u001b[0m\u001b[0;34m[\u001b[0m\u001b[0mparam2\u001b[0m\u001b[0;34m]\u001b[0m\u001b[0;34m==\u001b[0m\u001b[0mval2\u001b[0m\u001b[0;34m]\u001b[0m\u001b[0;34m\u001b[0m\u001b[0;34m\u001b[0m\u001b[0m\n\u001b[0m\u001b[1;32m      6\u001b[0m   \u001b[0;32mreturn\u001b[0m \u001b[0mlist_student\u001b[0m\u001b[0;34m\u001b[0m\u001b[0;34m\u001b[0m\u001b[0m\n",
            "\u001b[0;31mTypeError\u001b[0m: 'NoneType' object is not iterable"
          ]
        }
      ]
    },
    {
      "cell_type": "code",
      "source": [
        "#Ajouter des dictionnaires à la liste des étudiants\n",
        "\n",
        "etudiants=etudiants.append([{\"name\": \"Fatima\",\"first_name\": 'Abaaouch', 'ville': 'Lille'},{\"name\": \"Amine\",\"first_name\": 'Taqi', 'ville': 'Lyon'}])"
      ],
      "metadata": {
        "id": "e6dgbhhnmJZQ"
      },
      "execution_count": null,
      "outputs": []
    },
    {
      "cell_type": "code",
      "source": [
        "print(etudiants)"
      ],
      "metadata": {
        "colab": {
          "base_uri": "https://localhost:8080/"
        },
        "id": "GPWtaNAqmudV",
        "outputId": "6fa8bb10-b9a9-4ef5-b2b1-0c15e1eb4ecc"
      },
      "execution_count": null,
      "outputs": [
        {
          "output_type": "stream",
          "name": "stdout",
          "text": [
            "None\n"
          ]
        }
      ]
    },
    {
      "cell_type": "code",
      "source": [
        "first_name=input(\"entrez le nom :\")\n",
        "city=input(\"entrez la ville :\")"
      ],
      "metadata": {
        "colab": {
          "base_uri": "https://localhost:8080/"
        },
        "id": "-l_QdafJn-Bc",
        "outputId": "c16500d1-a5cb-40e7-c0e2-fba6e71e286d"
      },
      "execution_count": null,
      "outputs": [
        {
          "name": "stdout",
          "output_type": "stream",
          "text": [
            "entrez le nom :Lucas\n",
            "entrez la ville :Paris\n"
          ]
        }
      ]
    },
    {
      "cell_type": "code",
      "source": [
        "trouver_element(first_name,city)"
      ],
      "metadata": {
        "colab": {
          "base_uri": "https://localhost:8080/"
        },
        "id": "3okwT8pXx9iu",
        "outputId": "cb441018-7cea-4bca-fd63-ea126d920518"
      },
      "execution_count": null,
      "outputs": [
        {
          "output_type": "execute_result",
          "data": {
            "text/plain": [
              "[{'name': 'Taylor', 'first_name': 'Lucas', 'ville': 'Paris'}]"
            ]
          },
          "metadata": {},
          "execution_count": 78
        }
      ]
    },
    {
      "cell_type": "code",
      "source": [
        "#Création d'une fonction qui vérifie lors d'un nouvel enregistrement est ce qui'il y a pas de doublon\n",
        "'''\n",
        "les inputs: la liste à modifier, le nouvel enregistrement\n",
        "Les outputs:\n",
        "'''\n",
        "def ajouter_enregistrement_sans_doublon(liste:list, nouvel_enregistrement:dict):\n",
        "    # Vérifier si l'enregistrement existe déjà dans la liste\n",
        "    for enregistrement in liste:\n",
        "        if enregistrement == nouvel_enregistrement:\n",
        "            print(\"L'enregistrement existe déjà, aucune duplication autorisée.\")\n",
        "        return\n",
        "    # Si l'enregistrement n'existe pas, l'ajouter à la liste\n",
        "    liste.append(nouvel_enregistrement)\n",
        "    print(\"Enregistrement ajouté avec succès.\")\n",
        "\n"
      ],
      "metadata": {
        "colab": {
          "base_uri": "https://localhost:8080/",
          "height": 140
        },
        "id": "OTi5vS5u1qMj",
        "outputId": "7d3c06e3-c3eb-4e1e-cf2f-f42b4f493aba"
      },
      "execution_count": null,
      "outputs": [
        {
          "output_type": "error",
          "ename": "SyntaxError",
          "evalue": "ignored",
          "traceback": [
            "\u001b[0;36m  File \u001b[0;32m\"<ipython-input-115-b010d91cdc5c>\"\u001b[0;36m, line \u001b[0;32m14\u001b[0m\n\u001b[0;31m    else:\u001b[0m\n\u001b[0m    ^\u001b[0m\n\u001b[0;31mSyntaxError\u001b[0m\u001b[0;31m:\u001b[0m invalid syntax\n"
          ]
        }
      ]
    },
    {
      "cell_type": "code",
      "source": [
        "#Tester la fonction\n",
        "etudiants = [\n",
        "    {\"name\": \"Doe\", \"first_name\": \"John\", \"ville\": \"Paris\"},\n",
        "    {\"name\": \"Smith\", \"first_name\": \"Jane\", \"ville\": 'Lille'},\n",
        "    {\"name\": \"Brown\", \"first_name\": 'David', 'ville': 'Rennes'},\n",
        "    {\"name\": \"Martin\", \"first_name\": 'John', 'ville': 'Paris'},\n",
        "    {\"name\": \"Wilso\", \"first_name\": 'Sophia', 'ville': 'Paris'},\n",
        "    {\"name\": \"Garcia\", \"first_name\": 'Liam', 'ville': 'Lille'},\n",
        "    {\"name\": \"Lee\", \"first_name\": 'John', 'ville': 'Rennes'},\n",
        "    {\"name\": \"Taylor\", \"first_name\": 'Lucas', 'ville': 'Paris'},\n",
        "    {\"name\": \"Anderson\", \"first_name\": 'Mia', 'ville': 'Lille'},\n",
        "    {\"name\": \"Harris\",\"first_name\": 'Noah', 'ville': 'Paris'}\n",
        "]\n",
        "nouvel_enregistrement={\"name\": \"Fatima\",\"first_name\": 'Abaaouch', 'ville': 'Lille'}\n",
        "ajouter_enregistrement_sans_doublon(etudiants, nouvel_enregistrement)\n",
        "print(etudiants)\n"
      ],
      "metadata": {
        "colab": {
          "base_uri": "https://localhost:8080/"
        },
        "id": "QDwSoF606mY9",
        "outputId": "a3830b73-62e6-4a1c-e363-cae06aa42cf4"
      },
      "execution_count": null,
      "outputs": [
        {
          "output_type": "stream",
          "name": "stdout",
          "text": [
            "[{'name': 'Doe', 'first_name': 'John', 'ville': 'Paris'}, {'name': 'Smith', 'first_name': 'Jane', 'ville': 'Lille'}, {'name': 'Brown', 'first_name': 'David', 'ville': 'Rennes'}, {'name': 'Martin', 'first_name': 'John', 'ville': 'Paris'}, {'name': 'Wilso', 'first_name': 'Sophia', 'ville': 'Paris'}, {'name': 'Garcia', 'first_name': 'Liam', 'ville': 'Lille'}, {'name': 'Lee', 'first_name': 'John', 'ville': 'Rennes'}, {'name': 'Taylor', 'first_name': 'Lucas', 'ville': 'Paris'}, {'name': 'Anderson', 'first_name': 'Mia', 'ville': 'Lille'}, {'name': 'Harris', 'first_name': 'Noah', 'ville': 'Paris'}]\n"
          ]
        }
      ]
    },
    {
      "cell_type": "code",
      "source": [
        "with open('/content/Fatima.txt', 'r') as f:\n",
        "        lignes = f.readlines()\n",
        "        print(lignes)"
      ],
      "metadata": {
        "colab": {
          "base_uri": "https://localhost:8080/"
        },
        "id": "CxrnPeSl-AWi",
        "outputId": "c7fb1c05-dccb-449e-a86b-0b7dd1b74bf9"
      },
      "execution_count": null,
      "outputs": [
        {
          "output_type": "stream",
          "name": "stdout",
          "text": [
            "['Bonjour Marilyne\\n', 'Tu es une belle femme']\n"
          ]
        }
      ]
    },
    {
      "cell_type": "code",
      "source": [
        "#Définition de la fontion\n",
        "def read_doc(parametre1:str):\n",
        " with open(parametre1, 'r') as f:\n",
        "        lignes = f.readlines()\n",
        " return lignes\n",
        "\n",
        "\n",
        "\n"
      ],
      "metadata": {
        "id": "fHhFP3JX_wBT"
      },
      "execution_count": null,
      "outputs": []
    },
    {
      "cell_type": "code",
      "source": [
        "read_doc('/content/Fatima.txt')"
      ],
      "metadata": {
        "colab": {
          "base_uri": "https://localhost:8080/"
        },
        "id": "IRAviUYGBsyH",
        "outputId": "e32b5b9d-57d7-44f9-9c5e-ff555596b690"
      },
      "execution_count": null,
      "outputs": [
        {
          "output_type": "execute_result",
          "data": {
            "text/plain": [
              "['Bonjour Marilyne\\n', 'Tu es une belle femme']"
            ]
          },
          "metadata": {},
          "execution_count": 117
        }
      ]
    },
    {
      "cell_type": "code",
      "source": [
        "\"Bonjour; Marilyne\".strip().split()"
      ],
      "metadata": {
        "colab": {
          "base_uri": "https://localhost:8080/"
        },
        "id": "YLN7rp8BRS-O",
        "outputId": "7043093c-646d-4f86-84f0-1db824258f66"
      },
      "execution_count": null,
      "outputs": [
        {
          "output_type": "execute_result",
          "data": {
            "text/plain": [
              "['Bonjour;', 'Marilyne']"
            ]
          },
          "metadata": {},
          "execution_count": 121
        }
      ]
    },
    {
      "cell_type": "code",
      "source": [
        "ligne_affichage=[]\n",
        "with open('/content/Fatima.txt', 'r') as f:\n",
        "        lignes = f.readlines()\n",
        "for i in range(0,len(lignes)):\n",
        "    ligne_affichage.append(lignes[i].strip().split(','))\n",
        "    print(ligne_affichage)\n",
        "\n"
      ],
      "metadata": {
        "colab": {
          "base_uri": "https://localhost:8080/"
        },
        "id": "aHshGOqkSQPD",
        "outputId": "5973e3a2-4846-48c6-d1f4-748188ce61f9"
      },
      "execution_count": null,
      "outputs": [
        {
          "output_type": "stream",
          "name": "stdout",
          "text": [
            "[['Bonjour; Marilyne;']]\n",
            "[['Bonjour; Marilyne;'], ['Tu; es; une; belle; femme']]\n"
          ]
        }
      ]
    },
    {
      "cell_type": "code",
      "source": [
        "\n",
        "def read_doc(parametre1:str):\n",
        "  '''\n",
        "  inputs: les lignes du fichier\n",
        "  outputs: liste de dictionnaires\n",
        "  '''\n",
        "#Lecture d'un fichier et récuperation de ces lignes sous fome de liste\n",
        "  with open(parametre1, 'r') as f:\n",
        "        lignes = f.readlines()\n",
        "        ligne_affichage=[]\n",
        "  for i in range(0,len(lignes)):\n",
        "    ligne_affichage.append(lignes[i].strip().split(','))\n",
        "    return ligne_affichage"
      ],
      "metadata": {
        "id": "5aUklgxWYaA7"
      },
      "execution_count": null,
      "outputs": []
    },
    {
      "cell_type": "code",
      "source": [
        "read_doc('/content/ds_locations1.txt')"
      ],
      "metadata": {
        "colab": {
          "base_uri": "https://localhost:8080/"
        },
        "id": "F8FCy7PHfdg2",
        "outputId": "2645ba49-8bc1-49c1-d4c2-f4b9d119a71a"
      },
      "execution_count": null,
      "outputs": [
        {
          "output_type": "execute_result",
          "data": {
            "text/plain": [
              "[['identifiant',\n",
              "  'qualite',\n",
              "  'raison_sociale',\n",
              "  'nom',\n",
              "  'prenom',\n",
              "  'Label',\n",
              "  'adresse',\n",
              "  'code_postal',\n",
              "  'ville',\n",
              "  'nb_jours_benef',\n",
              "  'prix_jour']]"
            ]
          },
          "metadata": {},
          "execution_count": 159
        }
      ]
    },
    {
      "cell_type": "code",
      "source": [
        "etudiants = [\n",
        "    {\"name\": \"Doe\", \"first_name\": \"John\", \"ville\": \"Paris\"},\n",
        "    {\"name\": \"Smith\", \"first_name\": \"Jane\", \"ville\": 'Lille'},\n",
        "    {\"name\": \"Brown\", \"first_name\": 'David', 'ville': 'Rennes'},\n",
        "    {\"name\": \"Martin\", \"first_name\": 'John', 'ville': 'Paris'},\n",
        "    {\"name\": \"Wilso\", \"first_name\": 'Sophia', 'ville': 'Paris'},\n",
        "    {\"name\": \"Garcia\", \"first_name\": 'Liam', 'ville': 'Lille'},\n",
        "    {\"name\": \"Lee\", \"first_name\": 'John', 'ville': 'Rennes'},\n",
        "    {\"name\": \"Taylor\", \"first_name\": 'Lucas', 'ville': 'Paris'},\n",
        "    {\"name\": \"Anderson\", \"first_name\": 'Mia', 'ville': 'Lille'},\n",
        "    {\"name\": \"Harris\",\"first_name\": 'Noah', 'ville': 'Paris'}\n",
        "]\n",
        "def trouver_element(parametre1,parametre2):\n",
        "    liste_recherche=[]\n",
        "    for etudiant in etudiants:\n",
        "       if etudiant[\"first_name\"]==parametre1 and etudiant[\"ville\"]==parametre2:\n",
        "               liste_recherche.append(etudiant)\n",
        "    return liste_recherche\n"
      ],
      "metadata": {
        "id": "mDqDR2-bzdRa"
      },
      "execution_count": 58,
      "outputs": []
    },
    {
      "cell_type": "code",
      "source": [
        "\n",
        "def trouver_elem_genrique(**params):\n",
        "  liste_recherche=[]\n",
        "  for etudiant in etudiants:\n",
        "    isExist = False\n",
        "    for k,v in params.items():\n",
        "      for m,l in etudiant.items():\n",
        "        if k == m and v == l:\n",
        "          isExist = True\n",
        "        else:\n",
        "          isExist = False\n",
        "    if isExist == True:\n",
        "      liste_recherche.append(etudiant)\n",
        "  return liste_recherche\n"
      ],
      "metadata": {
        "id": "SqDO4fUz23-A"
      },
      "execution_count": null,
      "outputs": []
    },
    {
      "cell_type": "code",
      "source": [
        "trouver_element(\"John\",\"Paris\")"
      ],
      "metadata": {
        "colab": {
          "base_uri": "https://localhost:8080/"
        },
        "id": "RR4zd_UA2Eqr",
        "outputId": "6d652a31-2f65-4340-e06a-fa9d13e727d7"
      },
      "execution_count": null,
      "outputs": [
        {
          "output_type": "execute_result",
          "data": {
            "text/plain": [
              "[{'name': 'Doe', 'first_name': 'John', 'ville': 'Paris'},\n",
              " {'name': 'Martin', 'first_name': 'John', 'ville': 'Paris'}]"
            ]
          },
          "metadata": {},
          "execution_count": 12
        }
      ]
    },
    {
      "cell_type": "code",
      "source": [],
      "metadata": {
        "id": "V2gI4_9b505o"
      },
      "execution_count": null,
      "outputs": []
    },
    {
      "cell_type": "code",
      "source": [
        "trouver_elem_genrique(name=\"Doe\")"
      ],
      "metadata": {
        "colab": {
          "base_uri": "https://localhost:8080/"
        },
        "id": "NYXkTIJp2yLY",
        "outputId": "c679ff99-024d-49e2-fc68-0b5e28c0bcfc"
      },
      "execution_count": null,
      "outputs": [
        {
          "output_type": "execute_result",
          "data": {
            "text/plain": [
              "[]"
            ]
          },
          "metadata": {},
          "execution_count": 19
        }
      ]
    },
    {
      "cell_type": "code",
      "source": [
        "def verifier_les_doublons(new_record):\n",
        "  for etudiant in etudiants:\n",
        "    if etudiant==new_record:\n",
        "        print(\"l'enregistrement existe dans la liste\")\n",
        "        return\n",
        "  etudiants.append(new_record)\n",
        "  return etudiants\n",
        "\n",
        "\n",
        "\n",
        "\n",
        "\n",
        "\n",
        "\n",
        "\n"
      ],
      "metadata": {
        "id": "59zWOZF26BrI"
      },
      "execution_count": 56,
      "outputs": []
    },
    {
      "cell_type": "code",
      "source": [
        "verifier_les_doublons({\"name\": \"Dos\", \"first_name\": \"John\", \"ville\": \"Paris\"})"
      ],
      "metadata": {
        "colab": {
          "base_uri": "https://localhost:8080/",
          "height": 297
        },
        "id": "Jnvr5OUN8-Bs",
        "outputId": "295fd9f4-5411-42c9-b450-df9c0197270a"
      },
      "execution_count": 57,
      "outputs": [
        {
          "output_type": "error",
          "ename": "NameError",
          "evalue": "ignored",
          "traceback": [
            "\u001b[0;31m---------------------------------------------------------------------------\u001b[0m",
            "\u001b[0;31mNameError\u001b[0m                                 Traceback (most recent call last)",
            "\u001b[0;32m<ipython-input-57-c606421f0a84>\u001b[0m in \u001b[0;36m<cell line: 1>\u001b[0;34m()\u001b[0m\n\u001b[0;32m----> 1\u001b[0;31m \u001b[0mverifier_les_doublons\u001b[0m\u001b[0;34m(\u001b[0m\u001b[0;34m{\u001b[0m\u001b[0;34m\"name\"\u001b[0m\u001b[0;34m:\u001b[0m \u001b[0;34m\"Dos\"\u001b[0m\u001b[0;34m,\u001b[0m \u001b[0;34m\"first_name\"\u001b[0m\u001b[0;34m:\u001b[0m \u001b[0;34m\"John\"\u001b[0m\u001b[0;34m,\u001b[0m \u001b[0;34m\"ville\"\u001b[0m\u001b[0;34m:\u001b[0m \u001b[0;34m\"Paris\"\u001b[0m\u001b[0;34m}\u001b[0m\u001b[0;34m)\u001b[0m\u001b[0;34m\u001b[0m\u001b[0;34m\u001b[0m\u001b[0m\n\u001b[0m",
            "\u001b[0;32m<ipython-input-56-5ccbc0b1c7be>\u001b[0m in \u001b[0;36mverifier_les_doublons\u001b[0;34m(new_record)\u001b[0m\n\u001b[1;32m      1\u001b[0m \u001b[0;32mdef\u001b[0m \u001b[0mverifier_les_doublons\u001b[0m\u001b[0;34m(\u001b[0m\u001b[0mnew_record\u001b[0m\u001b[0;34m)\u001b[0m\u001b[0;34m:\u001b[0m\u001b[0;34m\u001b[0m\u001b[0;34m\u001b[0m\u001b[0m\n\u001b[0;32m----> 2\u001b[0;31m   \u001b[0;32mfor\u001b[0m \u001b[0metudiant\u001b[0m \u001b[0;32min\u001b[0m \u001b[0metudiants\u001b[0m\u001b[0;34m:\u001b[0m\u001b[0;34m\u001b[0m\u001b[0;34m\u001b[0m\u001b[0m\n\u001b[0m\u001b[1;32m      3\u001b[0m     \u001b[0;32mif\u001b[0m \u001b[0metudiant\u001b[0m\u001b[0;34m==\u001b[0m\u001b[0mnew_record\u001b[0m\u001b[0;34m:\u001b[0m\u001b[0;34m\u001b[0m\u001b[0;34m\u001b[0m\u001b[0m\n\u001b[1;32m      4\u001b[0m         \u001b[0mprint\u001b[0m\u001b[0;34m(\u001b[0m\u001b[0;34m\"l'enregistrement existe dans la liste\"\u001b[0m\u001b[0;34m)\u001b[0m\u001b[0;34m\u001b[0m\u001b[0;34m\u001b[0m\u001b[0m\n\u001b[1;32m      5\u001b[0m         \u001b[0;32mreturn\u001b[0m\u001b[0;34m\u001b[0m\u001b[0;34m\u001b[0m\u001b[0m\n",
            "\u001b[0;31mNameError\u001b[0m: name 'etudiants' is not defined"
          ]
        }
      ]
    },
    {
      "cell_type": "code",
      "source": [
        "#Lecture d'un ficher\n",
        "\n",
        "def read_texte(entree):\n",
        "  ligness=[]\n",
        "  with open(entree, 'r') as f:\n",
        "         lignes = f.readlines()\n",
        "         for i in range(0,len(lignes)):\n",
        "            ligness.append(lignes[i].strip(\"\\n\"))\n",
        "  print(ligness)"
      ],
      "metadata": {
        "id": "GPrr82aJAOfF"
      },
      "execution_count": 54,
      "outputs": []
    },
    {
      "cell_type": "code",
      "source": [],
      "metadata": {
        "id": "PSd0QrhyCZEW"
      },
      "execution_count": null,
      "outputs": []
    },
    {
      "cell_type": "code",
      "source": [
        "read_texte(\"/content/ds_locations1.txt\")"
      ],
      "metadata": {
        "colab": {
          "base_uri": "https://localhost:8080/"
        },
        "id": "l3nylrDnB0br",
        "outputId": "cb2cc79a-0fe7-4b71-b5ee-25c903313734"
      },
      "execution_count": null,
      "outputs": [
        {
          "output_type": "stream",
          "name": "stdout",
          "text": [
            "['identifiant,qualite,raison_sociale,nom,prenom,Label,adresse,code_postal,ville,nb_jours_benef,prix_jour', '1,personne_morale,ACME_Corporation,,,ACME_Corporation,123 Rue de la Societe,75001,Paris,120,50.0', '2,personne_physique,,Smith,John,Smith_John,456 Elm Street,90210,Los Angeles,90,60.0', '3,personne_morale,TechCorp,,,TechCorp,789 Tech Avenue,94105,San Francisco,150,75.0', '4,personne_physique,,Brown,Alice,Brown_Alice,321 Oak Lane,30301,Atlanta,75,65.0', '5,personne_morale,Global_Inc,,,Global_Inc,555 Main Road,60601,Chicago,180,55.0', '6,personne_physique,,Johnson,Michael,Johnson_Michael,777 Elm Street,10001,New York,60,70.0', '7,personne_morale,InnoSolutions,,,InnoSolutions,888 Innovation Way,30303,Atlanta,210,80.0', '8,personne_physique,,Anderson,Emma,Anderson_Emma,999 Elm Street,90001,Los Angeles,30,70.0', '9,personne_morale,DataCo_Ltd,,,DataCo_Ltd,111 Data Drive,94025,Palo Alto,270,45.0', '10,personne_physique,,Clark,David,Clark_David,222 Maple Avenue,60603,Chicago,45,60.0', '11,personne_morale,XYZ_Group,,,XYZ_Group,333 Business Blvd,75201,Dallas,300,50.0', '12,personne_physique,,Harris,Susan,Harris_Susan,444 Park Street,94110,San Francisco,15,70.0', '13,personne_morale,ABC_Consulting,,,ABC_Consulting,555 Consulting Lane,30320,Atlanta,240,65.0', '14,personne_physique,,Lee,Robert,Lee_Robert,666 Elm Street,10005,New York,75,75.0', '15,personne_morale,FutureTech_Solutions,,,FutureTech_Solutions,777 Future Drive,94030,Palo Alto,180,55.0', '16,personne_physique,,Wang,Li,Wang_Li,123 Elm Street,90210,Los Angeles,120,80.0', '17,personne_morale,InnovativeCorp,,,InnovativeCorp,789 Innovation Road,60601,Chicago,90,70.0', '18,personne_physique,,Garcia,Carlos,Garcia_Carlos,321 Oak Avenue,30301,Atlanta,30,65.0', '19,personne_morale,DataTech_Ltd,,,DataTech_Ltd,444 Data Drive,94105,San Francisco,210,55.0', '20,personne_physique,,Lopez,Maria,Lopez_Maria,555 Park Lane,75201,Dallas,150,75.0']\n"
          ]
        }
      ]
    },
    {
      "cell_type": "markdown",
      "source": [
        "Applications (dictionnaires) : code marilyne"
      ],
      "metadata": {
        "id": "Ys1tbqUadnzZ"
      }
    },
    {
      "cell_type": "code",
      "source": [
        "#Code de Marilyne : dictionnaire\n",
        "\n",
        "def liste_enregistrements2(fichier):\n",
        "  '''\n",
        "\n",
        "description:\n",
        "      créer une liste d'enregistrements à partir d'un fichier texte\n",
        "\n",
        "\n",
        "input:\n",
        "      fichier = chemin pour accéder au fichier\n",
        "\n",
        "\n",
        "output:\n",
        "      enregistrements = liste de dictionnaires contenant les enregistrements\n",
        "\n",
        "  '''\n",
        "\n",
        "  enregistrement2 = []\n",
        "  with open(fichier, 'r') as f:\n",
        "    lignes = f.readlines()\n",
        "\n",
        "    cles=lignes[0].strip().split(',')\n",
        "\n",
        "    for ligne in lignes[1:]:\n",
        "      valeurs = ligne.strip().split(',')\n",
        "      #print(valeurs)\n",
        "\n",
        "      dict = {}\n",
        "      for cle, valeur in zip(cles, valeurs):\n",
        "        dict[cle]=valeur\n",
        "\n",
        "  return enregistrement2\n",
        "\n",
        ""
      ],
      "metadata": {
        "id": "mJcIXFUfgJoj"
      },
      "execution_count": 53,
      "outputs": []
    },
    {
      "cell_type": "code",
      "source": [
        "liste_enregistrements(\"/content/ds_locations1.txt\")"
      ],
      "metadata": {
        "colab": {
          "base_uri": "https://localhost:8080/",
          "height": 175
        },
        "id": "-ZKAFsVfgnIs",
        "outputId": "6526b92d-a802-4f3d-8640-7873d8304b91"
      },
      "execution_count": 52,
      "outputs": [
        {
          "output_type": "error",
          "ename": "NameError",
          "evalue": "ignored",
          "traceback": [
            "\u001b[0;31m---------------------------------------------------------------------------\u001b[0m",
            "\u001b[0;31mNameError\u001b[0m                                 Traceback (most recent call last)",
            "\u001b[0;32m<ipython-input-52-02da4b4b3c7d>\u001b[0m in \u001b[0;36m<cell line: 1>\u001b[0;34m()\u001b[0m\n\u001b[0;32m----> 1\u001b[0;31m \u001b[0mliste_enregistrements\u001b[0m\u001b[0;34m(\u001b[0m\u001b[0;34m\"/content/ds_locations1.txt\"\u001b[0m\u001b[0;34m)\u001b[0m\u001b[0;34m\u001b[0m\u001b[0;34m\u001b[0m\u001b[0m\n\u001b[0m",
            "\u001b[0;31mNameError\u001b[0m: name 'liste_enregistrements' is not defined"
          ]
        }
      ]
    },
    {
      "cell_type": "markdown",
      "source": [
        "#                                                         Les Classes\n",
        "\n",
        "\n",
        "\n",
        "\n",
        "\n",
        "\n"
      ],
      "metadata": {
        "id": "MNF7V2PgeLNY"
      }
    },
    {
      "cell_type": "code",
      "source": [
        "class locataire_entity:\n",
        "    def __init__(self, qualite):\n",
        "        self.qualite = qualite\n",
        "        self.libelle = ''\n",
        "\n",
        "    def set_libelle(self, label):\n",
        "        self.libelle = label\n"
      ],
      "metadata": {
        "id": "vb4UzmBNeJ7R"
      },
      "execution_count": 10,
      "outputs": []
    },
    {
      "cell_type": "markdown",
      "source": [
        "Test: attributs de classe\n"
      ],
      "metadata": {
        "id": "1VQUkThv2OCX"
      }
    },
    {
      "cell_type": "code",
      "source": [
        "class Personne:                    #Creation de la class\n",
        "  humeur=''  #attributs de classe: pour les manipuler on utilise pas les objets mais directement la classe\n",
        "  def __init__(self,nom='',prenom='',adresse=''):\n",
        "      self.nom=nom\n",
        "      self.prenom=prenom\n",
        "      self.adresse=adresse\n",
        "  def afficher_personne(self):   #Methode\n",
        "      print(f\"Nom: {self.nom}\")\n",
        "      print(f\"Prenom: {self.prenom}\")\n",
        "      print(f\"adresse: {self.adresse}\")\n",
        "      print(Personne.humeur)\n",
        "  def get_full_name(self):\n",
        "    return self.nom+''+self.prenom\n",
        "  def __str__(self): #Methode pour aficher un objet\n",
        "    return f\"Nom: {self.nom}, Prenom: {self.prenom}\"\n",
        "\n"
      ],
      "metadata": {
        "id": "E7LCdKQQfx60"
      },
      "execution_count": 93,
      "outputs": []
    },
    {
      "cell_type": "markdown",
      "source": [],
      "metadata": {
        "id": "MtzSNRc5rDK4"
      }
    },
    {
      "cell_type": "code",
      "source": [
        "\n",
        "p1=Personne(\"Abaaouch\",\"Fatima\",\"51 rue Pascal\")    #instancier la classe : creation d'un objet qui prend les attributs de la classe\n",
        "p1.afficher_personne()              # Avec l'objet de la classe on utilise directement la methode de la classe\n"
      ],
      "metadata": {
        "colab": {
          "base_uri": "https://localhost:8080/"
        },
        "id": "RZVCKTgGisdJ",
        "outputId": "4abb7b98-b550-4cf0-bbd8-b7625e0116de"
      },
      "execution_count": 111,
      "outputs": [
        {
          "output_type": "stream",
          "name": "stdout",
          "text": [
            "identifiant: Abaaouch\n",
            "qualite: Fatima\n",
            "label: 51 rue Pascal\n",
            "adresse: \n",
            "code_postal: \n",
            "ville: \n"
          ]
        }
      ]
    },
    {
      "cell_type": "code",
      "source": [
        "print(p1.nom)\n",
        "print(p1.prenom)"
      ],
      "metadata": {
        "colab": {
          "base_uri": "https://localhost:8080/"
        },
        "id": "UKm3TKGljPPn",
        "outputId": "6cb3139d-993e-46f5-9fc6-db985a39d4e8"
      },
      "execution_count": 95,
      "outputs": [
        {
          "output_type": "stream",
          "name": "stdout",
          "text": [
            "Abaaouch\n",
            "Fatima\n"
          ]
        }
      ]
    },
    {
      "cell_type": "code",
      "source": [
        "p1.get_full_name()"
      ],
      "metadata": {
        "colab": {
          "base_uri": "https://localhost:8080/",
          "height": 35
        },
        "id": "Iea6FeqfmYUp",
        "outputId": "c83f026a-65fd-4346-86b4-9a2632eb43ae"
      },
      "execution_count": 70,
      "outputs": [
        {
          "output_type": "execute_result",
          "data": {
            "text/plain": [
              "'AbaaouchFatima'"
            ],
            "application/vnd.google.colaboratory.intrinsic+json": {
              "type": "string"
            }
          },
          "metadata": {},
          "execution_count": 70
        }
      ]
    },
    {
      "cell_type": "code",
      "source": [
        "print(p1)"
      ],
      "metadata": {
        "colab": {
          "base_uri": "https://localhost:8080/"
        },
        "id": "C4mn15QArxaf",
        "outputId": "69d9dba1-c855-49ba-878b-6823bfbb5f90"
      },
      "execution_count": 78,
      "outputs": [
        {
          "output_type": "stream",
          "name": "stdout",
          "text": [
            "Nom: Abaaouch, Prenom: Fatima\n"
          ]
        }
      ]
    },
    {
      "cell_type": "code",
      "source": [
        "Personne.humeur='Joyeux'"
      ],
      "metadata": {
        "id": "6AI8KptBulQc"
      },
      "execution_count": 96,
      "outputs": []
    },
    {
      "cell_type": "code",
      "source": [
        "p2=Personne(\"Marimyne\",\"Machin\",\"15 gfh\")\n"
      ],
      "metadata": {
        "id": "PPVnvZYLxC2_"
      },
      "execution_count": 110,
      "outputs": []
    },
    {
      "cell_type": "markdown",
      "source": [
        "## Apllication: classes\n",
        "\n",
        "---\n",
        "\n"
      ],
      "metadata": {
        "id": "Uw8OEMs-2JZI"
      }
    },
    {
      "cell_type": "code",
      "source": [
        "class Personne:                    #Creation de la classe\n",
        "\n",
        "  def __init__(self,identifiant='',label='',adresse='',\n",
        "               code_postal='',ville='',qualite=''):\n",
        "      self.identifiant=identifiant\n",
        "      self.qualite=qualite\n",
        "      self.label=label\n",
        "      self.adresse=adresse\n",
        "      self.code_postal=code_postal\n",
        "      self.ville=ville\n",
        "  def afficher_personne(self):   #Methode\n",
        "      print(f\"identifiant: {self.identifiant}\")\n",
        "      print(f\"qualite: {self.qualite}\")\n",
        "      print(f\"label: {self.label}\")\n",
        "      print(f\"adresse: {self.adresse}\")\n",
        "      print(f\"code_postal: {self.code_postal}\")\n",
        "      print(f\"ville: {self.ville}\")\n",
        "\n",
        "  def __str__(self): #Methode pour aficher un objet\n",
        "    return f\"identifiant: {self.identifiant},qualite:{self.qualite}, \\\n",
        "     label: {self.label},adresse: {self.adresse}, \\\n",
        "     code_postal: {self.code_postal},ville: {self.ville}\"\n",
        "\n",
        "  def set_object_by_dict(self,dictio):\n",
        "    self.identifiant=dictio['identifiant']\n",
        "    self.qualite=dictio['qualite']\n",
        "    self.label=dictio['Label']\n",
        "    self.adresse=dictio['adresse']\n",
        "    self.code_postal=dictio['code_postal']\n",
        "    self.ville=dictio['ville']\n",
        "\n",
        "\n",
        "\n",
        "\n"
      ],
      "metadata": {
        "id": "4gfOPuVm2esq"
      },
      "execution_count": 314,
      "outputs": []
    },
    {
      "cell_type": "code",
      "source": [
        "dictio=liste_enregistrements('/content/ds_locations1.txt')\n",
        "dictio"
      ],
      "metadata": {
        "colab": {
          "base_uri": "https://localhost:8080/",
          "height": 193
        },
        "id": "ioPq0mW_lU9s",
        "outputId": "5cb8975d-e314-4d26-9f42-1f9f1929e0ce"
      },
      "execution_count": 46,
      "outputs": [
        {
          "output_type": "error",
          "ename": "NameError",
          "evalue": "ignored",
          "traceback": [
            "\u001b[0;31m---------------------------------------------------------------------------\u001b[0m",
            "\u001b[0;31mNameError\u001b[0m                                 Traceback (most recent call last)",
            "\u001b[0;32m<ipython-input-46-586ba722d067>\u001b[0m in \u001b[0;36m<cell line: 1>\u001b[0;34m()\u001b[0m\n\u001b[0;32m----> 1\u001b[0;31m \u001b[0mdictio\u001b[0m\u001b[0;34m=\u001b[0m\u001b[0mliste_enregistrements2\u001b[0m\u001b[0;34m(\u001b[0m\u001b[0;34m'/content/ds_locations1.txt'\u001b[0m\u001b[0;34m)\u001b[0m\u001b[0;34m\u001b[0m\u001b[0;34m\u001b[0m\u001b[0m\n\u001b[0m\u001b[1;32m      2\u001b[0m \u001b[0mdictio\u001b[0m\u001b[0;34m\u001b[0m\u001b[0;34m\u001b[0m\u001b[0m\n",
            "\u001b[0;31mNameError\u001b[0m: name 'liste_enregistrements2' is not defined"
          ]
        }
      ]
    },
    {
      "cell_type": "code",
      "source": [
        "object1=Personne()\n",
        "object1.set_object_by_dict(dictio[0])"
      ],
      "metadata": {
        "id": "qwGH0T0zkw_T"
      },
      "execution_count": 275,
      "outputs": []
    },
    {
      "cell_type": "code",
      "source": [
        "object1.afficher_personne()"
      ],
      "metadata": {
        "colab": {
          "base_uri": "https://localhost:8080/"
        },
        "id": "rQ-cV7cUpY_u",
        "outputId": "29d0d923-8800-442b-a892-84ad36585e05"
      },
      "execution_count": 314,
      "outputs": [
        {
          "output_type": "stream",
          "name": "stdout",
          "text": [
            "identifiant: 1\n",
            "qualite: personne_morale\n",
            "label: ACME_Corporation\n",
            "adresse: 123 Rue de la Societe\n",
            "code_postal: 75001\n",
            "ville: Paris\n"
          ]
        }
      ]
    },
    {
      "cell_type": "code",
      "source": [
        "personne1=Personne(\"1\",\"personne physique\",\"ACME_corporation\",\"123 rue de la societe\",\"75001\",\"Paris\")\n",
        "personne1.afficher_personne()"
      ],
      "metadata": {
        "colab": {
          "base_uri": "https://localhost:8080/"
        },
        "id": "FyWARANIE9Yf",
        "outputId": "5d4907ff-8742-425d-aa80-494538912944"
      },
      "execution_count": 315,
      "outputs": [
        {
          "output_type": "stream",
          "name": "stdout",
          "text": [
            "identifiant: 1\n",
            "qualite: personne physique\n",
            "label: ACME_corporation\n",
            "adresse: 123 rue de la societe\n",
            "code_postal: 75001\n",
            "ville: Paris\n"
          ]
        }
      ]
    },
    {
      "cell_type": "code",
      "source": [
        "#creation de la classe fille personne physique qui hérite de la classe Personne\n",
        "class Personne_Physique(Personne):\n",
        "  def __init__(self,identifiant='',label='',\n",
        "               adresse='', code_postal='',ville='', nom= '', prenom='', qualite='personne_physique',):\n",
        "    super().__init__(identifiant,label,adresse,code_postal,ville,qualite) #héritage des attributs contruits dans la classe mère personne\n",
        "    self.nom=nom\n",
        "    self.prenom=prenom\n",
        "    self.label=(nom+'_'+prenom).replace(' ','_')   #remplacer le chemp label pour nom_prenom\n",
        "\n",
        "  def afficher_personne(self):\n",
        "      super().afficher_personne()\n",
        "      print(f\"nom: {self.nom}\")\n",
        "      print(f\"prenom: {self.prenom}\")\n",
        "  def set_object_by_dict(self,dictio):\n",
        "      super().set_object_by_dict(dictio)\n",
        "      self.nom=dictio['nom']\n",
        "      self.prenom=dictio['prenom']\n",
        "\n",
        "  def __str__(self):\n",
        "    return super().__str__()+f\"nom: {self.nom},prenom:{self.prenom}\"\n",
        ""
      ],
      "metadata": {
        "id": "BUVOeNbZCm98"
      },
      "execution_count": 326,
      "outputs": []
    },
    {
      "cell_type": "code",
      "source": [
        "P_p=Personne_Physique(\"2\",\"\",\"456 Elm Street\",\"90210\",\"Los Angeles\",\"John\",\"Smith_John\",\"personne_physique\")\n",
        "P_p.afficher_personne()"
      ],
      "metadata": {
        "colab": {
          "base_uri": "https://localhost:8080/"
        },
        "id": "fE2wssILLVTv",
        "outputId": "7f820136-9757-4068-d2b9-a45efab0ac5d"
      },
      "execution_count": 327,
      "outputs": [
        {
          "output_type": "stream",
          "name": "stdout",
          "text": [
            "identifiant: 2\n",
            "qualite: personne_physique\n",
            "label: John_Smith_John\n",
            "adresse: 456 Elm Street\n",
            "code_postal: 90210\n",
            "ville: Los Angeles\n",
            "nom: John\n",
            "prenom: Smith_John\n"
          ]
        }
      ]
    },
    {
      "cell_type": "markdown",
      "source": [],
      "metadata": {
        "id": "99-OeJ-JwnO9"
      }
    },
    {
      "cell_type": "code",
      "source": [
        "#attribuer les attributs du dictionnaire à l'objet\n",
        "p1=Personne_Physique()\n",
        "p1.set_object_by_dict(dictio[1])\n"
      ],
      "metadata": {
        "colab": {
          "base_uri": "https://localhost:8080/",
          "height": 210
        },
        "id": "RLlneS-k6XHI",
        "outputId": "38e68f15-eb52-4616-882f-55d55c67e239"
      },
      "execution_count": 189,
      "outputs": [
        {
          "output_type": "error",
          "ename": "NameError",
          "evalue": "ignored",
          "traceback": [
            "\u001b[0;31m---------------------------------------------------------------------------\u001b[0m",
            "\u001b[0;31mNameError\u001b[0m                                 Traceback (most recent call last)",
            "\u001b[0;32m<ipython-input-189-be1255c26e5c>\u001b[0m in \u001b[0;36m<cell line: 3>\u001b[0;34m()\u001b[0m\n\u001b[1;32m      1\u001b[0m \u001b[0;31m#attribuer les attributs du dictionnaire à l'objet\u001b[0m\u001b[0;34m\u001b[0m\u001b[0;34m\u001b[0m\u001b[0m\n\u001b[1;32m      2\u001b[0m \u001b[0mp1\u001b[0m\u001b[0;34m=\u001b[0m\u001b[0mPersonne_Physique\u001b[0m\u001b[0;34m(\u001b[0m\u001b[0;34m)\u001b[0m\u001b[0;34m\u001b[0m\u001b[0;34m\u001b[0m\u001b[0m\n\u001b[0;32m----> 3\u001b[0;31m \u001b[0mp1\u001b[0m\u001b[0;34m.\u001b[0m\u001b[0mset_object_by_dict\u001b[0m\u001b[0;34m(\u001b[0m\u001b[0mdictio\u001b[0m\u001b[0;34m[\u001b[0m\u001b[0;36m1\u001b[0m\u001b[0;34m]\u001b[0m\u001b[0;34m)\u001b[0m\u001b[0;34m\u001b[0m\u001b[0;34m\u001b[0m\u001b[0m\n\u001b[0m",
            "\u001b[0;31mNameError\u001b[0m: name 'dictio' is not defined"
          ]
        }
      ]
    },
    {
      "cell_type": "code",
      "source": [
        "p1.afficher_personne()"
      ],
      "metadata": {
        "colab": {
          "base_uri": "https://localhost:8080/"
        },
        "id": "d_o1k4aFsXqh",
        "outputId": "15971e65-aca9-4ec4-a1c8-80c5248f8148"
      },
      "execution_count": 306,
      "outputs": [
        {
          "output_type": "stream",
          "name": "stdout",
          "text": [
            "identifiant: 2\n",
            "qualite: personne_physique\n",
            "label: Smith_John\n",
            "adresse: 456 Elm Street\n",
            "code_postal: 90210\n",
            "ville: Los Angeles\n",
            "nom: Smith\n",
            "prenom: John\n"
          ]
        }
      ]
    },
    {
      "cell_type": "code",
      "source": [
        "#creation de la classe fille personne morale qui hérite de la classe Personne\n",
        "class Personne_Morale(Personne):\n",
        "  def __init__(self,identifiant='',raison_sociale='',label='', adresse='',\\\n",
        "               code_postal='',ville='', qualite='personne_morale'):\n",
        "    super().__init__(identifiant,label,adresse,code_postal,ville,qualite)\n",
        "    self.raison_sociale=raison_sociale\n",
        "    self.label=self.raison_sociale.replace(' ','_')\n",
        "  def afficher_personne(self):\n",
        "      super().afficher_personne()\n",
        "      print(f\"raison_sociale: {self.raison_sociale}\")\n",
        "  def set_object_by_dict(self,dictio): #Méthode de la classe mère surchargé pour la classe fille\n",
        "      super().set_object_by_dict(dictio)\n",
        "      self.raison_sociale=dictio['raison_sociale']\n",
        "\n"
      ],
      "metadata": {
        "id": "8Ym6KBbJHUuf"
      },
      "execution_count": 316,
      "outputs": []
    },
    {
      "cell_type": "code",
      "source": [
        "personneM=Personne_Morale()\n",
        "personneM.set_object_by_dict(dictio[0])"
      ],
      "metadata": {
        "id": "rOelG2x2IHfB"
      },
      "execution_count": 307,
      "outputs": []
    },
    {
      "cell_type": "code",
      "source": [
        "personneM.afficher_personne()"
      ],
      "metadata": {
        "colab": {
          "base_uri": "https://localhost:8080/"
        },
        "id": "2WfdBbPq7WI4",
        "outputId": "6d6e4022-5ea5-4104-d18f-ccd3e9f166cf"
      },
      "execution_count": 308,
      "outputs": [
        {
          "output_type": "stream",
          "name": "stdout",
          "text": [
            "identifiant: 1\n",
            "qualite: personne_morale\n",
            "label: ACME_Corporation\n",
            "adresse: 123 Rue de la Societe\n",
            "code_postal: 75001\n",
            "ville: Paris\n",
            "raison_sociale: ACME_Corporation\n"
          ]
        }
      ]
    },
    {
      "cell_type": "markdown",
      "source": [
        "## Création d'une autre classe \"Locations\" qui va avoir comme attributs la classe Personne"
      ],
      "metadata": {
        "id": "USMotdh28Pb3"
      }
    },
    {
      "cell_type": "markdown",
      "source": [
        " '''def __str__(self):\n",
        "    return f\"client: {str(self.client)},nb_jours_bene: {self.nb_jours_bene}, \\\n",
        "    prix_jour: {self.prix_jour}\"\n",
        "  '''  "
      ],
      "metadata": {
        "id": "4H1NwHOixS1j"
      }
    },
    {
      "cell_type": "code",
      "source": [
        "class Locations:\n",
        "\n",
        "  def __init__(self,identifiant='',label='',\n",
        "               adresse='',code_postal='',ville='',qualite='',nom='',prenom='',\n",
        "               raison_sociale='',nb_jours_bene='',prix_jour=''):\n",
        "    if qualite=='personne_morale':\n",
        "      self.client=Personne_Morale(identifiant,raison_sociale,label, adresse,\\\n",
        "               code_postal,ville, qualite)\n",
        "    elif qualite=='personne_physique:':\n",
        "       self.client=Personne_Physique(identifiant,label,adresse,\n",
        "                                     code_postal,ville,nom,prenom,qualite)\n",
        "    else:\n",
        "      self.client= Personne(identifiant,label,adresse,code_postal,ville,\n",
        "                            qualite)\n",
        "\n",
        "    self.nb_jours_bene=nb_jours_bene\n",
        "    self.prix_jour=prix_jour\n",
        "\n",
        "\n",
        "  def afficher_location(self):\n",
        "      self.client.afficher_personne()\n",
        "      print(f\"nb_jours_bene: {self.nb_jours_bene}\")\n",
        "      print(f\"prix_jour: {self.prix_jour}\")\n",
        "\n",
        "\n"
      ],
      "metadata": {
        "id": "WEyh7_5o2J9k"
      },
      "execution_count": 308,
      "outputs": []
    },
    {
      "cell_type": "code",
      "source": [
        "personne_client=Locations(\"2\",\"\",\"456 Elm Street\",\"90210\",\"Los Angeles\",\"personne_morale\",\"John\",\"Imad\",\"Bibif\",'25','45')\n",
        "personne_client.afficher_location()\n"
      ],
      "metadata": {
        "colab": {
          "base_uri": "https://localhost:8080/"
        },
        "id": "vU0uXf2qqKoR",
        "outputId": "eb48a8a1-bb47-4f1f-e7cf-3be704f85070"
      },
      "execution_count": 329,
      "outputs": [
        {
          "output_type": "stream",
          "name": "stdout",
          "text": [
            "identifiant: 2\n",
            "qualite: personne_morale\n",
            "label: Bibif\n",
            "adresse: 456 Elm Street\n",
            "code_postal: 90210\n",
            "ville: Los Angeles\n",
            "raison_sociale: Bibif\n",
            "nb_jours_bene: 25\n",
            "prix_jour: 45\n"
          ]
        }
      ]
    },
    {
      "cell_type": "code",
      "source": [
        "def creation_listes_objet():\n",
        ""
      ],
      "metadata": {
        "id": "z54TqqWDkh1o"
      },
      "execution_count": null,
      "outputs": []
    }
  ]
}